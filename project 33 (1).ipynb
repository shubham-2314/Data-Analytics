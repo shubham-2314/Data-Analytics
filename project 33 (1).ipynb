{
 "cells": [
  {
   "cell_type": "code",
   "execution_count": 1,
   "metadata": {},
   "outputs": [],
   "source": [
    "import pandas as pd \n",
    "import numpy as np\n",
    "import matplotlib.pyplot as plt\n",
    "import seaborn as sns\n",
    "import sklearn\n",
    "from sklearn.linear_model import LinearRegression\n",
    "from sklearn.metrics import mean_squared_error, r2_score\n",
    "import warnings\n",
    "warnings.filterwarnings(\"ignore\")"
   ]
  },
  {
   "cell_type": "code",
   "execution_count": 2,
   "metadata": {},
   "outputs": [],
   "source": [
    "train=pd.read_excel(\"Final_Train.xlsx\")\n",
    "test=pd.read_excel(\"Final_Test.xlsx\")"
   ]
  },
  {
   "cell_type": "code",
   "execution_count": 3,
   "metadata": {},
   "outputs": [],
   "source": [
    "frames = [train, test]\n",
    "df=pd.concat(frames,sort=False)"
   ]
  },
  {
   "cell_type": "code",
   "execution_count": 4,
   "metadata": {},
   "outputs": [
    {
     "data": {
      "text/html": [
       "<div>\n",
       "<style scoped>\n",
       "    .dataframe tbody tr th:only-of-type {\n",
       "        vertical-align: middle;\n",
       "    }\n",
       "\n",
       "    .dataframe tbody tr th {\n",
       "        vertical-align: top;\n",
       "    }\n",
       "\n",
       "    .dataframe thead th {\n",
       "        text-align: right;\n",
       "    }\n",
       "</style>\n",
       "<table border=\"1\" class=\"dataframe\">\n",
       "  <thead>\n",
       "    <tr style=\"text-align: right;\">\n",
       "      <th></th>\n",
       "      <th>Qualification</th>\n",
       "      <th>Experience</th>\n",
       "      <th>Rating</th>\n",
       "      <th>Place</th>\n",
       "      <th>Profile</th>\n",
       "      <th>Miscellaneous_Info</th>\n",
       "      <th>Fees</th>\n",
       "    </tr>\n",
       "  </thead>\n",
       "  <tbody>\n",
       "    <tr>\n",
       "      <th>0</th>\n",
       "      <td>BHMS, MD - Homeopathy</td>\n",
       "      <td>24 years experience</td>\n",
       "      <td>100%</td>\n",
       "      <td>Kakkanad, Ernakulam</td>\n",
       "      <td>Homeopath</td>\n",
       "      <td>100% 16 Feedback Kakkanad, Ernakulam</td>\n",
       "      <td>100.0</td>\n",
       "    </tr>\n",
       "    <tr>\n",
       "      <th>1</th>\n",
       "      <td>BAMS, MD - Ayurveda Medicine</td>\n",
       "      <td>12 years experience</td>\n",
       "      <td>98%</td>\n",
       "      <td>Whitefield, Bangalore</td>\n",
       "      <td>Ayurveda</td>\n",
       "      <td>98% 76 Feedback Whitefield, Bangalore</td>\n",
       "      <td>350.0</td>\n",
       "    </tr>\n",
       "    <tr>\n",
       "      <th>2</th>\n",
       "      <td>MBBS, MS - Otorhinolaryngology</td>\n",
       "      <td>9 years experience</td>\n",
       "      <td>NaN</td>\n",
       "      <td>Mathikere - BEL, Bangalore</td>\n",
       "      <td>ENT Specialist</td>\n",
       "      <td>NaN</td>\n",
       "      <td>300.0</td>\n",
       "    </tr>\n",
       "    <tr>\n",
       "      <th>3</th>\n",
       "      <td>BSc - Zoology, BAMS</td>\n",
       "      <td>12 years experience</td>\n",
       "      <td>NaN</td>\n",
       "      <td>Bannerghatta Road, Bangalore</td>\n",
       "      <td>Ayurveda</td>\n",
       "      <td>Bannerghatta Road, Bangalore ₹250 Available on...</td>\n",
       "      <td>250.0</td>\n",
       "    </tr>\n",
       "    <tr>\n",
       "      <th>4</th>\n",
       "      <td>BAMS</td>\n",
       "      <td>20 years experience</td>\n",
       "      <td>100%</td>\n",
       "      <td>Keelkattalai, Chennai</td>\n",
       "      <td>Ayurveda</td>\n",
       "      <td>100% 4 Feedback Keelkattalai, Chennai</td>\n",
       "      <td>250.0</td>\n",
       "    </tr>\n",
       "  </tbody>\n",
       "</table>\n",
       "</div>"
      ],
      "text/plain": [
       "                    Qualification           Experience Rating  \\\n",
       "0           BHMS, MD - Homeopathy  24 years experience   100%   \n",
       "1    BAMS, MD - Ayurveda Medicine  12 years experience    98%   \n",
       "2  MBBS, MS - Otorhinolaryngology   9 years experience    NaN   \n",
       "3             BSc - Zoology, BAMS  12 years experience    NaN   \n",
       "4                            BAMS  20 years experience   100%   \n",
       "\n",
       "                          Place         Profile  \\\n",
       "0           Kakkanad, Ernakulam       Homeopath   \n",
       "1         Whitefield, Bangalore        Ayurveda   \n",
       "2    Mathikere - BEL, Bangalore  ENT Specialist   \n",
       "3  Bannerghatta Road, Bangalore        Ayurveda   \n",
       "4         Keelkattalai, Chennai        Ayurveda   \n",
       "\n",
       "                                  Miscellaneous_Info   Fees  \n",
       "0               100% 16 Feedback Kakkanad, Ernakulam  100.0  \n",
       "1              98% 76 Feedback Whitefield, Bangalore  350.0  \n",
       "2                                                NaN  300.0  \n",
       "3  Bannerghatta Road, Bangalore ₹250 Available on...  250.0  \n",
       "4              100% 4 Feedback Keelkattalai, Chennai  250.0  "
      ]
     },
     "execution_count": 4,
     "metadata": {},
     "output_type": "execute_result"
    }
   ],
   "source": [
    "df.head()"
   ]
  },
  {
   "cell_type": "code",
   "execution_count": 5,
   "metadata": {},
   "outputs": [
    {
     "data": {
      "text/plain": [
       "Qualification            0\n",
       "Experience               0\n",
       "Rating                4392\n",
       "Place                   31\n",
       "Profile                  0\n",
       "Miscellaneous_Info    3454\n",
       "Fees                  1987\n",
       "dtype: int64"
      ]
     },
     "execution_count": 5,
     "metadata": {},
     "output_type": "execute_result"
    }
   ],
   "source": [
    "df.isnull().sum()"
   ]
  },
  {
   "cell_type": "code",
   "execution_count": 6,
   "metadata": {},
   "outputs": [],
   "source": [
    "df[\"Experience\"] = df[\"Experience\"].str.split()\n",
    "df[\"Experience\"] = df[\"Experience\"].str[0].astype(\"int\")"
   ]
  },
  {
   "cell_type": "code",
   "execution_count": 7,
   "metadata": {},
   "outputs": [],
   "source": [
    "df[\"Place\"].fillna(\"Unknown,Unknown\",inplace=True)\n",
    "df[\"Place\"] = df[\"Place\"].str.split(\",\")\n",
    "df[\"City\"] = df[\"Place\"].str[-1]\n",
    "df[\"Place\"] = df[\"Place\"].str[0]"
   ]
  },
  {
   "cell_type": "code",
   "execution_count": 8,
   "metadata": {},
   "outputs": [
    {
     "data": {
      "text/plain": [
       "100%    907\n",
       "98%     402\n",
       "99%     327\n",
       "97%     325\n",
       "96%     285\n",
       "95%     225\n",
       "94%     166\n",
       "93%     143\n",
       "92%      95\n",
       "90%      95\n",
       "91%      86\n",
       "88%      54\n",
       "89%      53\n",
       "85%      35\n",
       "83%      32\n",
       "82%      32\n",
       "86%      27\n",
       "80%      26\n",
       "87%      25\n",
       "84%      20\n",
       "67%      17\n",
       "77%      17\n",
       "71%      16\n",
       "79%      15\n",
       "81%      15\n",
       "73%      13\n",
       "76%      13\n",
       "60%      11\n",
       "70%       8\n",
       "75%       8\n",
       "74%       7\n",
       "78%       7\n",
       "69%       6\n",
       "55%       5\n",
       "68%       5\n",
       "56%       5\n",
       "64%       4\n",
       "57%       3\n",
       "72%       3\n",
       "53%       2\n",
       "65%       2\n",
       "62%       2\n",
       "63%       2\n",
       "33%       2\n",
       "58%       1\n",
       "47%       1\n",
       "52%       1\n",
       "45%       1\n",
       "7%        1\n",
       "48%       1\n",
       "40%       1\n",
       "36%       1\n",
       "Name: Rating, dtype: int64"
      ]
     },
     "execution_count": 8,
     "metadata": {},
     "output_type": "execute_result"
    }
   ],
   "source": [
    "df[\"Rating\"].value_counts()"
   ]
  },
  {
   "cell_type": "code",
   "execution_count": 9,
   "metadata": {},
   "outputs": [],
   "source": [
    "df[\"Rating\"].fillna(\"-99%\",inplace=True)\n",
    "df[\"Rating\"] = df[\"Rating\"].str[:-1].astype(\"int\")\n",
    "bins = [-99,0,10,20,30,40,50,60,70,80,90,100]\n",
    "labels = [i for i in range(11)]\n",
    "df[\"Rating\"] = pd.cut(df[\"Rating\"],bins=bins,labels=labels,include_lowest=True)"
   ]
  },
  {
   "cell_type": "code",
   "execution_count": 10,
   "metadata": {},
   "outputs": [
    {
     "data": {
      "text/plain": [
       "0     4392\n",
       "10    2961\n",
       "9      388\n",
       "8      125\n",
       "7       46\n",
       "6       28\n",
       "4        4\n",
       "5        3\n",
       "1        1\n",
       "3        0\n",
       "2        0\n",
       "Name: Rating, dtype: int64"
      ]
     },
     "execution_count": 10,
     "metadata": {},
     "output_type": "execute_result"
    }
   ],
   "source": [
    "df[\"Rating\"].value_counts()"
   ]
  },
  {
   "cell_type": "code",
   "execution_count": 11,
   "metadata": {},
   "outputs": [
    {
     "data": {
      "text/plain": [
       "BDS                                                                                                                                                                                                                                                                        632\n",
       "BHMS                                                                                                                                                                                                                                                                       627\n",
       "BAMS                                                                                                                                                                                                                                                                       624\n",
       "MBBS                                                                                                                                                                                                                                                                       441\n",
       "MBBS, MS - ENT                                                                                                                                                                                                                                                             280\n",
       "MBBS, MD - Dermatology                                                                                                                                                                                                                                                     242\n",
       "MBBS, MD - General Medicine                                                                                                                                                                                                                                                227\n",
       "MBBS, MD - Dermatology , Venereology & Leprosy                                                                                                                                                                                                                             193\n",
       "MBBS, DDVL                                                                                                                                                                                                                                                                 123\n",
       "BHMS, MD - Homeopathy                                                                                                                                                                                                                                                      120\n",
       "MBBS, Diploma in Otorhinolaryngology (DLO)                                                                                                                                                                                                                                 114\n",
       "BAMS, MD - Ayurveda Medicine                                                                                                                                                                                                                                               106\n",
       "BDS, MDS - Conservative Dentistry & Endodontics                                                                                                                                                                                                                             89\n",
       "MBBS, DDV                                                                                                                                                                                                                                                                   81\n",
       "BDS, MDS                                                                                                                                                                                                                                                                    77\n",
       "BDS, MDS - Oral & Maxillofacial Surgery                                                                                                                                                                                                                                     76\n",
       "MD - Dermatology , Venereology & Leprosy, MBBS                                                                                                                                                                                                                              66\n",
       "MBBS, MD - Medicine                                                                                                                                                                                                                                                         62\n",
       "MBBS, MS - Otorhinolaryngology                                                                                                                                                                                                                                              61\n",
       "BDS, MDS - Prosthodontics                                                                                                                                                                                                                                                   60\n",
       "BDS, MDS - Orthodontics                                                                                                                                                                                                                                                     54\n",
       "MBBS, MD - Internal Medicine                                                                                                                                                                                                                                                54\n",
       "MS - ENT, MBBS                                                                                                                                                                                                                                                              47\n",
       "BDS, MDS - Paedodontics And Preventive Dentistry                                                                                                                                                                                                                            43\n",
       "BDS, MDS - Periodontology and Oral Implantology                                                                                                                                                                                                                             41\n",
       "MBBS, Diploma in Otorhinolaryngology (DLO), DNB - ENT                                                                                                                                                                                                                       37\n",
       "MBBS, Diploma in Dermatology                                                                                                                                                                                                                                                37\n",
       "BDS, MDS - Orthodontics and Dentofacial Orthopaedics                                                                                                                                                                                                                        37\n",
       "MD - Dermatology, MBBS                                                                                                                                                                                                                                                      36\n",
       "BDS, MDS - Prosthodontist And Crown Bridge                                                                                                                                                                                                                                  35\n",
       "                                                                                                                                                                                                                                                                          ... \n",
       "BDS, MDS, DICOI                                                                                                                                                                                                                                                              1\n",
       "Certification in Aesthetic Dentistry, Certificate in Cosmetic Dentistry, BDS                                                                                                                                                                                                 1\n",
       "MBBS, Diploma in Tropical Medicine Health, MRCP (UK), MSc                                                                                                                                                                                                                    1\n",
       "MS - Otorhinolaryngology, DNB - ENT, MBBS                                                                                                                                                                                                                                    1\n",
       "MDS - Paedodontics And Preventive Dentistry, BDS, Certified in Inhalational Sedation                                                                                                                                                                                         1\n",
       "BDS, Certificate in Dental Implants, FICOI, Certification in Aesthetic Dentistry                                                                                                                                                                                             1\n",
       "MBBS, MS - ENT, FICS                                                                                                                                                                                                                                                         1\n",
       "CGO, BAMS                                                                                                                                                                                                                                                                    1\n",
       "BDS, MS - Pediatric                                                                                                                                                                                                                                                          1\n",
       "MD - Dermatology, Diploma in Dermatology                                                                                                                                                                                                                                     1\n",
       "Diploma in Otorhinolaryngology (DLO), MBBS, DNB                                                                                                                                                                                                                              1\n",
       "DDV, MD - Dermatology, MBBS                                                                                                                                                                                                                                                  1\n",
       "MD - Medicine, Post Graduate Diploma in Diabetology (PGDD), MBBS, FRCP - Internal Medicine                                                                                                                                                                                   1\n",
       "FAMS - Fellowship of the Academy Medicine, MBBS, MS - ENT, Diploma in ENT, Specialized Training in Otology, Fellowship in Head & Neck Oncology Surgery, Advanced Endoscopy Training, Cochlear Implant Surgery, Advance Course on Diagnosis of Allergy and Immunotherapy      1\n",
       "MBBS, MD - Internal Medicine, Post Graduate Diploma in Diabetology (PGDD), PG in Diabetology, Post Graduate Diploma in Diabetology (PGDD), Post Graduate Diploma in Diabetology (PGDD), Fellowship in Diabetology                                                            1\n",
       "MBBS, FRCS - Otolaryngology                                                                                                                                                                                                                                                  1\n",
       "MBBS, Diploma in Otorhinolaryngology (DLO), MS - ENT, FRCS - General Surgery                                                                                                                                                                                                 1\n",
       "BDS, Certificate in Dental Implants, Certificate in Dental Implants                                                                                                                                                                                                          1\n",
       "BHMS, MD - Homeo Organon                                                                                                                                                                                                                                                     1\n",
       "MDS - Prosthodontics, Certified BPS Dentist, BDS                                                                                                                                                                                                                             1\n",
       "MBBS, Fellowship in Diabetology(Royal Liverpool Academy, UK)                                                                                                                                                                                                                 1\n",
       "MBBS, MS - General Surgery, MCh - Oncology, MNAMS - General Surgery                                                                                                                                                                                                          1\n",
       "BDS, Advanced Endotontic Course On Root Canal                                                                                                                                                                                                                                1\n",
       "MBBS, Diploma in Dermatology, DDVL, DDV                                                                                                                                                                                                                                      1\n",
       "DHMS (Diploma in Homeopathic Medicine and Surgery), Diploma In Naturopathy (ND)                                                                                                                                                                                              1\n",
       "BDS, Fellow of Academy of General Education (FAGE), MDS                                                                                                                                                                                                                      1\n",
       "MD - Dermatology , Venereology & Leprosy, DNB, MRCP (UK)                                                                                                                                                                                                                     1\n",
       "MDS - Prosthodontics, BDS, MDS - Prosthodontist And Crown Bridge                                                                                                                                                                                                             1\n",
       "BAMS, MD - Ayurveda Medicine, Certification In Yoga                                                                                                                                                                                                                          1\n",
       "MBBS, Diploma in Dermatology, MD - Microbiology                                                                                                                                                                                                                              1\n",
       "Name: Qualification, Length: 1801, dtype: int64"
      ]
     },
     "execution_count": 11,
     "metadata": {},
     "output_type": "execute_result"
    }
   ],
   "source": [
    "df[\"Qualification\"].value_counts()"
   ]
  },
  {
   "cell_type": "code",
   "execution_count": 12,
   "metadata": {},
   "outputs": [],
   "source": [
    "df[\"Qualification\"]=df[\"Qualification\"].str.split(\",\")\n",
    "Qualification ={}\n",
    "for x in df[\"Qualification\"].values:\n",
    "    for each in x:\n",
    "        each = each.strip()\n",
    "        if each in Qualification:\n",
    "            Qualification[each]+=1\n",
    "        else:\n",
    "            Qualification[each]=1"
   ]
  },
  {
   "cell_type": "code",
   "execution_count": 13,
   "metadata": {},
   "outputs": [],
   "source": [
    "most_qua = sorted(Qualification.items(),key=lambda x:x[1],reverse=True)[:10]\n",
    "final_qua =[]\n",
    "for tup in most_qua:\n",
    "    final_qua.append(tup[0])\n",
    "for title in final_qua:\n",
    "    df[title]=0\n",
    "    \n",
    "for x,y in zip(df[\"Qualification\"].values,np.array([idx for idx in range(len(df))])):\n",
    "    for q in x:\n",
    "        q = q.strip()\n",
    "        if q in final_qua:\n",
    "            df[q][y] = 1\n",
    "df.drop(\"Qualification\",axis=1,inplace=True)"
   ]
  },
  {
   "cell_type": "code",
   "execution_count": 14,
   "metadata": {},
   "outputs": [
    {
     "data": {
      "text/plain": [
       "Dentist             1838\n",
       "General Medicine    1617\n",
       "Dermatologists      1373\n",
       "Homeopath           1120\n",
       "Ayurveda            1037\n",
       "ENT Specialist       963\n",
       "Name: Profile, dtype: int64"
      ]
     },
     "execution_count": 14,
     "metadata": {},
     "output_type": "execute_result"
    }
   ],
   "source": [
    "df[\"Profile\"].value_counts()"
   ]
  },
  {
   "cell_type": "code",
   "execution_count": 15,
   "metadata": {},
   "outputs": [
    {
     "data": {
      "text/plain": [
       " Bangalore             1678\n",
       " Mumbai                1608\n",
       " Delhi                 1602\n",
       " Hyderabad             1284\n",
       " Chennai               1142\n",
       " Coimbatore             298\n",
       " Ernakulam              201\n",
       " Thiruvananthapuram     103\n",
       "Unknown                  31\n",
       "e                         1\n",
       "Name: City, dtype: int64"
      ]
     },
     "execution_count": 15,
     "metadata": {},
     "output_type": "execute_result"
    }
   ],
   "source": [
    " df[\"City\"].value_counts()"
   ]
  },
  {
   "cell_type": "code",
   "execution_count": 16,
   "metadata": {},
   "outputs": [
    {
     "data": {
      "text/html": [
       "<div>\n",
       "<style scoped>\n",
       "    .dataframe tbody tr th:only-of-type {\n",
       "        vertical-align: middle;\n",
       "    }\n",
       "\n",
       "    .dataframe tbody tr th {\n",
       "        vertical-align: top;\n",
       "    }\n",
       "\n",
       "    .dataframe thead th {\n",
       "        text-align: right;\n",
       "    }\n",
       "</style>\n",
       "<table border=\"1\" class=\"dataframe\">\n",
       "  <thead>\n",
       "    <tr style=\"text-align: right;\">\n",
       "      <th></th>\n",
       "      <th>Experience</th>\n",
       "      <th>Rating</th>\n",
       "      <th>Place</th>\n",
       "      <th>Profile</th>\n",
       "      <th>Miscellaneous_Info</th>\n",
       "      <th>Fees</th>\n",
       "      <th>City</th>\n",
       "      <th>MBBS</th>\n",
       "      <th>BDS</th>\n",
       "      <th>BAMS</th>\n",
       "      <th>BHMS</th>\n",
       "      <th>MD - Dermatology</th>\n",
       "      <th>MS - ENT</th>\n",
       "      <th>Venereology &amp; Leprosy</th>\n",
       "      <th>MD - General Medicine</th>\n",
       "      <th>Diploma in Otorhinolaryngology (DLO)</th>\n",
       "      <th>MD - Homeopathy</th>\n",
       "    </tr>\n",
       "  </thead>\n",
       "  <tbody>\n",
       "    <tr>\n",
       "      <th>0</th>\n",
       "      <td>24</td>\n",
       "      <td>10</td>\n",
       "      <td>Kakkanad</td>\n",
       "      <td>Homeopath</td>\n",
       "      <td>100% 16 Feedback Kakkanad, Ernakulam</td>\n",
       "      <td>100.0</td>\n",
       "      <td>Ernakulam</td>\n",
       "      <td>0</td>\n",
       "      <td>0</td>\n",
       "      <td>0</td>\n",
       "      <td>1</td>\n",
       "      <td>0</td>\n",
       "      <td>0</td>\n",
       "      <td>0</td>\n",
       "      <td>0</td>\n",
       "      <td>0</td>\n",
       "      <td>1</td>\n",
       "    </tr>\n",
       "    <tr>\n",
       "      <th>1</th>\n",
       "      <td>12</td>\n",
       "      <td>10</td>\n",
       "      <td>Whitefield</td>\n",
       "      <td>Ayurveda</td>\n",
       "      <td>98% 76 Feedback Whitefield, Bangalore</td>\n",
       "      <td>350.0</td>\n",
       "      <td>Bangalore</td>\n",
       "      <td>0</td>\n",
       "      <td>0</td>\n",
       "      <td>1</td>\n",
       "      <td>0</td>\n",
       "      <td>0</td>\n",
       "      <td>0</td>\n",
       "      <td>0</td>\n",
       "      <td>0</td>\n",
       "      <td>0</td>\n",
       "      <td>0</td>\n",
       "    </tr>\n",
       "    <tr>\n",
       "      <th>2</th>\n",
       "      <td>9</td>\n",
       "      <td>0</td>\n",
       "      <td>Mathikere - BEL</td>\n",
       "      <td>ENT Specialist</td>\n",
       "      <td>NaN</td>\n",
       "      <td>300.0</td>\n",
       "      <td>Bangalore</td>\n",
       "      <td>1</td>\n",
       "      <td>0</td>\n",
       "      <td>0</td>\n",
       "      <td>0</td>\n",
       "      <td>0</td>\n",
       "      <td>0</td>\n",
       "      <td>0</td>\n",
       "      <td>0</td>\n",
       "      <td>0</td>\n",
       "      <td>0</td>\n",
       "    </tr>\n",
       "    <tr>\n",
       "      <th>3</th>\n",
       "      <td>12</td>\n",
       "      <td>0</td>\n",
       "      <td>Bannerghatta Road</td>\n",
       "      <td>Ayurveda</td>\n",
       "      <td>Bannerghatta Road, Bangalore ₹250 Available on...</td>\n",
       "      <td>250.0</td>\n",
       "      <td>Bangalore</td>\n",
       "      <td>0</td>\n",
       "      <td>0</td>\n",
       "      <td>1</td>\n",
       "      <td>0</td>\n",
       "      <td>0</td>\n",
       "      <td>0</td>\n",
       "      <td>0</td>\n",
       "      <td>0</td>\n",
       "      <td>0</td>\n",
       "      <td>0</td>\n",
       "    </tr>\n",
       "    <tr>\n",
       "      <th>4</th>\n",
       "      <td>20</td>\n",
       "      <td>10</td>\n",
       "      <td>Keelkattalai</td>\n",
       "      <td>Ayurveda</td>\n",
       "      <td>100% 4 Feedback Keelkattalai, Chennai</td>\n",
       "      <td>250.0</td>\n",
       "      <td>Chennai</td>\n",
       "      <td>0</td>\n",
       "      <td>0</td>\n",
       "      <td>1</td>\n",
       "      <td>0</td>\n",
       "      <td>0</td>\n",
       "      <td>0</td>\n",
       "      <td>0</td>\n",
       "      <td>0</td>\n",
       "      <td>0</td>\n",
       "      <td>0</td>\n",
       "    </tr>\n",
       "  </tbody>\n",
       "</table>\n",
       "</div>"
      ],
      "text/plain": [
       "   Experience Rating              Place         Profile  \\\n",
       "0          24     10           Kakkanad       Homeopath   \n",
       "1          12     10         Whitefield        Ayurveda   \n",
       "2           9      0    Mathikere - BEL  ENT Specialist   \n",
       "3          12      0  Bannerghatta Road        Ayurveda   \n",
       "4          20     10       Keelkattalai        Ayurveda   \n",
       "\n",
       "                                  Miscellaneous_Info   Fees        City  MBBS  \\\n",
       "0               100% 16 Feedback Kakkanad, Ernakulam  100.0   Ernakulam     0   \n",
       "1              98% 76 Feedback Whitefield, Bangalore  350.0   Bangalore     0   \n",
       "2                                                NaN  300.0   Bangalore     1   \n",
       "3  Bannerghatta Road, Bangalore ₹250 Available on...  250.0   Bangalore     0   \n",
       "4              100% 4 Feedback Keelkattalai, Chennai  250.0     Chennai     0   \n",
       "\n",
       "   BDS  BAMS  BHMS  MD - Dermatology  MS - ENT  Venereology & Leprosy  \\\n",
       "0    0     0     1                 0         0                      0   \n",
       "1    0     1     0                 0         0                      0   \n",
       "2    0     0     0                 0         0                      0   \n",
       "3    0     1     0                 0         0                      0   \n",
       "4    0     1     0                 0         0                      0   \n",
       "\n",
       "   MD - General Medicine  Diploma in Otorhinolaryngology (DLO)  \\\n",
       "0                      0                                     0   \n",
       "1                      0                                     0   \n",
       "2                      0                                     0   \n",
       "3                      0                                     0   \n",
       "4                      0                                     0   \n",
       "\n",
       "   MD - Homeopathy  \n",
       "0                1  \n",
       "1                0  \n",
       "2                0  \n",
       "3                0  \n",
       "4                0  "
      ]
     },
     "execution_count": 16,
     "metadata": {},
     "output_type": "execute_result"
    }
   ],
   "source": [
    "df.head()"
   ]
  },
  {
   "cell_type": "code",
   "execution_count": 17,
   "metadata": {},
   "outputs": [],
   "source": [
    "df=df.drop([\"Miscellaneous_Info\"],axis=1)"
   ]
  },
  {
   "cell_type": "code",
   "execution_count": 18,
   "metadata": {},
   "outputs": [
    {
     "data": {
      "text/plain": [
       "Experience                                 0\n",
       "Rating                                     0\n",
       "Place                                      0\n",
       "Profile                                    0\n",
       "Fees                                    1987\n",
       "City                                       0\n",
       "MBBS                                       0\n",
       "BDS                                        0\n",
       "BAMS                                       0\n",
       "BHMS                                       0\n",
       "MD - Dermatology                           0\n",
       "MS - ENT                                   0\n",
       "Venereology & Leprosy                      0\n",
       "MD - General Medicine                      0\n",
       "Diploma in Otorhinolaryngology (DLO)       0\n",
       "MD - Homeopathy                            0\n",
       "dtype: int64"
      ]
     },
     "execution_count": 18,
     "metadata": {},
     "output_type": "execute_result"
    }
   ],
   "source": [
    "df.isnull().sum()"
   ]
  },
  {
   "cell_type": "code",
   "execution_count": 19,
   "metadata": {},
   "outputs": [],
   "source": [
    "df[\"Fees\"]=df[\"Fees\"].fillna(df[\"Fees\"].mean())"
   ]
  },
  {
   "cell_type": "code",
   "execution_count": 20,
   "metadata": {},
   "outputs": [
    {
     "data": {
      "text/plain": [
       "Experience                              0\n",
       "Rating                                  0\n",
       "Place                                   0\n",
       "Profile                                 0\n",
       "Fees                                    0\n",
       "City                                    0\n",
       "MBBS                                    0\n",
       "BDS                                     0\n",
       "BAMS                                    0\n",
       "BHMS                                    0\n",
       "MD - Dermatology                        0\n",
       "MS - ENT                                0\n",
       "Venereology & Leprosy                   0\n",
       "MD - General Medicine                   0\n",
       "Diploma in Otorhinolaryngology (DLO)    0\n",
       "MD - Homeopathy                         0\n",
       "dtype: int64"
      ]
     },
     "execution_count": 20,
     "metadata": {},
     "output_type": "execute_result"
    }
   ],
   "source": [
    "df.isnull().sum()"
   ]
  },
  {
   "cell_type": "code",
   "execution_count": 21,
   "metadata": {},
   "outputs": [],
   "source": [
    "df = pd.get_dummies(df,columns=[\"City\",\"Profile\"],prefix=[\"City\",\"Profile\"])"
   ]
  },
  {
   "cell_type": "code",
   "execution_count": 22,
   "metadata": {},
   "outputs": [
    {
     "data": {
      "text/html": [
       "<div>\n",
       "<style scoped>\n",
       "    .dataframe tbody tr th:only-of-type {\n",
       "        vertical-align: middle;\n",
       "    }\n",
       "\n",
       "    .dataframe tbody tr th {\n",
       "        vertical-align: top;\n",
       "    }\n",
       "\n",
       "    .dataframe thead th {\n",
       "        text-align: right;\n",
       "    }\n",
       "</style>\n",
       "<table border=\"1\" class=\"dataframe\">\n",
       "  <thead>\n",
       "    <tr style=\"text-align: right;\">\n",
       "      <th></th>\n",
       "      <th>Experience</th>\n",
       "      <th>Rating</th>\n",
       "      <th>Place</th>\n",
       "      <th>Fees</th>\n",
       "      <th>MBBS</th>\n",
       "      <th>BDS</th>\n",
       "      <th>BAMS</th>\n",
       "      <th>BHMS</th>\n",
       "      <th>MD - Dermatology</th>\n",
       "      <th>MS - ENT</th>\n",
       "      <th>...</th>\n",
       "      <th>City_ Mumbai</th>\n",
       "      <th>City_ Thiruvananthapuram</th>\n",
       "      <th>City_Unknown</th>\n",
       "      <th>City_e</th>\n",
       "      <th>Profile_Ayurveda</th>\n",
       "      <th>Profile_Dentist</th>\n",
       "      <th>Profile_Dermatologists</th>\n",
       "      <th>Profile_ENT Specialist</th>\n",
       "      <th>Profile_General Medicine</th>\n",
       "      <th>Profile_Homeopath</th>\n",
       "    </tr>\n",
       "  </thead>\n",
       "  <tbody>\n",
       "    <tr>\n",
       "      <th>0</th>\n",
       "      <td>24</td>\n",
       "      <td>10</td>\n",
       "      <td>Kakkanad</td>\n",
       "      <td>100.0</td>\n",
       "      <td>0</td>\n",
       "      <td>0</td>\n",
       "      <td>0</td>\n",
       "      <td>1</td>\n",
       "      <td>0</td>\n",
       "      <td>0</td>\n",
       "      <td>...</td>\n",
       "      <td>0</td>\n",
       "      <td>0</td>\n",
       "      <td>0</td>\n",
       "      <td>0</td>\n",
       "      <td>0</td>\n",
       "      <td>0</td>\n",
       "      <td>0</td>\n",
       "      <td>0</td>\n",
       "      <td>0</td>\n",
       "      <td>1</td>\n",
       "    </tr>\n",
       "    <tr>\n",
       "      <th>1</th>\n",
       "      <td>12</td>\n",
       "      <td>10</td>\n",
       "      <td>Whitefield</td>\n",
       "      <td>350.0</td>\n",
       "      <td>0</td>\n",
       "      <td>0</td>\n",
       "      <td>1</td>\n",
       "      <td>0</td>\n",
       "      <td>0</td>\n",
       "      <td>0</td>\n",
       "      <td>...</td>\n",
       "      <td>0</td>\n",
       "      <td>0</td>\n",
       "      <td>0</td>\n",
       "      <td>0</td>\n",
       "      <td>1</td>\n",
       "      <td>0</td>\n",
       "      <td>0</td>\n",
       "      <td>0</td>\n",
       "      <td>0</td>\n",
       "      <td>0</td>\n",
       "    </tr>\n",
       "    <tr>\n",
       "      <th>2</th>\n",
       "      <td>9</td>\n",
       "      <td>0</td>\n",
       "      <td>Mathikere - BEL</td>\n",
       "      <td>300.0</td>\n",
       "      <td>1</td>\n",
       "      <td>0</td>\n",
       "      <td>0</td>\n",
       "      <td>0</td>\n",
       "      <td>0</td>\n",
       "      <td>0</td>\n",
       "      <td>...</td>\n",
       "      <td>0</td>\n",
       "      <td>0</td>\n",
       "      <td>0</td>\n",
       "      <td>0</td>\n",
       "      <td>0</td>\n",
       "      <td>0</td>\n",
       "      <td>0</td>\n",
       "      <td>1</td>\n",
       "      <td>0</td>\n",
       "      <td>0</td>\n",
       "    </tr>\n",
       "    <tr>\n",
       "      <th>3</th>\n",
       "      <td>12</td>\n",
       "      <td>0</td>\n",
       "      <td>Bannerghatta Road</td>\n",
       "      <td>250.0</td>\n",
       "      <td>0</td>\n",
       "      <td>0</td>\n",
       "      <td>1</td>\n",
       "      <td>0</td>\n",
       "      <td>0</td>\n",
       "      <td>0</td>\n",
       "      <td>...</td>\n",
       "      <td>0</td>\n",
       "      <td>0</td>\n",
       "      <td>0</td>\n",
       "      <td>0</td>\n",
       "      <td>1</td>\n",
       "      <td>0</td>\n",
       "      <td>0</td>\n",
       "      <td>0</td>\n",
       "      <td>0</td>\n",
       "      <td>0</td>\n",
       "    </tr>\n",
       "    <tr>\n",
       "      <th>4</th>\n",
       "      <td>20</td>\n",
       "      <td>10</td>\n",
       "      <td>Keelkattalai</td>\n",
       "      <td>250.0</td>\n",
       "      <td>0</td>\n",
       "      <td>0</td>\n",
       "      <td>1</td>\n",
       "      <td>0</td>\n",
       "      <td>0</td>\n",
       "      <td>0</td>\n",
       "      <td>...</td>\n",
       "      <td>0</td>\n",
       "      <td>0</td>\n",
       "      <td>0</td>\n",
       "      <td>0</td>\n",
       "      <td>1</td>\n",
       "      <td>0</td>\n",
       "      <td>0</td>\n",
       "      <td>0</td>\n",
       "      <td>0</td>\n",
       "      <td>0</td>\n",
       "    </tr>\n",
       "  </tbody>\n",
       "</table>\n",
       "<p>5 rows × 30 columns</p>\n",
       "</div>"
      ],
      "text/plain": [
       "   Experience Rating              Place   Fees  MBBS  BDS  BAMS  BHMS  \\\n",
       "0          24     10           Kakkanad  100.0     0    0     0     1   \n",
       "1          12     10         Whitefield  350.0     0    0     1     0   \n",
       "2           9      0    Mathikere - BEL  300.0     1    0     0     0   \n",
       "3          12      0  Bannerghatta Road  250.0     0    0     1     0   \n",
       "4          20     10       Keelkattalai  250.0     0    0     1     0   \n",
       "\n",
       "   MD - Dermatology  MS - ENT  ...  City_ Mumbai  City_ Thiruvananthapuram  \\\n",
       "0                 0         0  ...             0                         0   \n",
       "1                 0         0  ...             0                         0   \n",
       "2                 0         0  ...             0                         0   \n",
       "3                 0         0  ...             0                         0   \n",
       "4                 0         0  ...             0                         0   \n",
       "\n",
       "   City_Unknown  City_e  Profile_Ayurveda  Profile_Dentist  \\\n",
       "0             0       0                 0                0   \n",
       "1             0       0                 1                0   \n",
       "2             0       0                 0                0   \n",
       "3             0       0                 1                0   \n",
       "4             0       0                 1                0   \n",
       "\n",
       "   Profile_Dermatologists  Profile_ENT Specialist  Profile_General Medicine  \\\n",
       "0                       0                       0                         0   \n",
       "1                       0                       0                         0   \n",
       "2                       0                       1                         0   \n",
       "3                       0                       0                         0   \n",
       "4                       0                       0                         0   \n",
       "\n",
       "   Profile_Homeopath  \n",
       "0                  1  \n",
       "1                  0  \n",
       "2                  0  \n",
       "3                  0  \n",
       "4                  0  \n",
       "\n",
       "[5 rows x 30 columns]"
      ]
     },
     "execution_count": 22,
     "metadata": {},
     "output_type": "execute_result"
    }
   ],
   "source": [
    "df.head()"
   ]
  },
  {
   "cell_type": "code",
   "execution_count": null,
   "metadata": {},
   "outputs": [],
   "source": []
  },
  {
   "cell_type": "code",
   "execution_count": 27,
   "metadata": {},
   "outputs": [
    {
     "data": {
      "text/html": [
       "<div>\n",
       "<style scoped>\n",
       "    .dataframe tbody tr th:only-of-type {\n",
       "        vertical-align: middle;\n",
       "    }\n",
       "\n",
       "    .dataframe tbody tr th {\n",
       "        vertical-align: top;\n",
       "    }\n",
       "\n",
       "    .dataframe thead th {\n",
       "        text-align: right;\n",
       "    }\n",
       "</style>\n",
       "<table border=\"1\" class=\"dataframe\">\n",
       "  <thead>\n",
       "    <tr style=\"text-align: right;\">\n",
       "      <th></th>\n",
       "      <th>Experience</th>\n",
       "      <th>Rating</th>\n",
       "      <th>Place</th>\n",
       "      <th>Fees</th>\n",
       "      <th>MBBS</th>\n",
       "      <th>BDS</th>\n",
       "      <th>BAMS</th>\n",
       "      <th>BHMS</th>\n",
       "      <th>MD - Dermatology</th>\n",
       "      <th>MS - ENT</th>\n",
       "      <th>...</th>\n",
       "      <th>City_ Mumbai</th>\n",
       "      <th>City_ Thiruvananthapuram</th>\n",
       "      <th>City_Unknown</th>\n",
       "      <th>City_e</th>\n",
       "      <th>Profile_Ayurveda</th>\n",
       "      <th>Profile_Dentist</th>\n",
       "      <th>Profile_Dermatologists</th>\n",
       "      <th>Profile_ENT Specialist</th>\n",
       "      <th>Profile_General Medicine</th>\n",
       "      <th>Profile_Homeopath</th>\n",
       "    </tr>\n",
       "  </thead>\n",
       "  <tbody>\n",
       "    <tr>\n",
       "      <th>0</th>\n",
       "      <td>24</td>\n",
       "      <td>10</td>\n",
       "      <td>Kakkanad</td>\n",
       "      <td>100.0</td>\n",
       "      <td>0</td>\n",
       "      <td>0</td>\n",
       "      <td>0</td>\n",
       "      <td>1</td>\n",
       "      <td>0</td>\n",
       "      <td>0</td>\n",
       "      <td>...</td>\n",
       "      <td>0</td>\n",
       "      <td>0</td>\n",
       "      <td>0</td>\n",
       "      <td>0</td>\n",
       "      <td>0</td>\n",
       "      <td>0</td>\n",
       "      <td>0</td>\n",
       "      <td>0</td>\n",
       "      <td>0</td>\n",
       "      <td>1</td>\n",
       "    </tr>\n",
       "    <tr>\n",
       "      <th>1</th>\n",
       "      <td>12</td>\n",
       "      <td>10</td>\n",
       "      <td>Whitefield</td>\n",
       "      <td>350.0</td>\n",
       "      <td>0</td>\n",
       "      <td>0</td>\n",
       "      <td>1</td>\n",
       "      <td>0</td>\n",
       "      <td>0</td>\n",
       "      <td>0</td>\n",
       "      <td>...</td>\n",
       "      <td>0</td>\n",
       "      <td>0</td>\n",
       "      <td>0</td>\n",
       "      <td>0</td>\n",
       "      <td>1</td>\n",
       "      <td>0</td>\n",
       "      <td>0</td>\n",
       "      <td>0</td>\n",
       "      <td>0</td>\n",
       "      <td>0</td>\n",
       "    </tr>\n",
       "    <tr>\n",
       "      <th>2</th>\n",
       "      <td>9</td>\n",
       "      <td>0</td>\n",
       "      <td>Mathikere - BEL</td>\n",
       "      <td>300.0</td>\n",
       "      <td>1</td>\n",
       "      <td>0</td>\n",
       "      <td>0</td>\n",
       "      <td>0</td>\n",
       "      <td>0</td>\n",
       "      <td>0</td>\n",
       "      <td>...</td>\n",
       "      <td>0</td>\n",
       "      <td>0</td>\n",
       "      <td>0</td>\n",
       "      <td>0</td>\n",
       "      <td>0</td>\n",
       "      <td>0</td>\n",
       "      <td>0</td>\n",
       "      <td>1</td>\n",
       "      <td>0</td>\n",
       "      <td>0</td>\n",
       "    </tr>\n",
       "    <tr>\n",
       "      <th>3</th>\n",
       "      <td>12</td>\n",
       "      <td>0</td>\n",
       "      <td>Bannerghatta Road</td>\n",
       "      <td>250.0</td>\n",
       "      <td>0</td>\n",
       "      <td>0</td>\n",
       "      <td>1</td>\n",
       "      <td>0</td>\n",
       "      <td>0</td>\n",
       "      <td>0</td>\n",
       "      <td>...</td>\n",
       "      <td>0</td>\n",
       "      <td>0</td>\n",
       "      <td>0</td>\n",
       "      <td>0</td>\n",
       "      <td>1</td>\n",
       "      <td>0</td>\n",
       "      <td>0</td>\n",
       "      <td>0</td>\n",
       "      <td>0</td>\n",
       "      <td>0</td>\n",
       "    </tr>\n",
       "    <tr>\n",
       "      <th>4</th>\n",
       "      <td>20</td>\n",
       "      <td>10</td>\n",
       "      <td>Keelkattalai</td>\n",
       "      <td>250.0</td>\n",
       "      <td>0</td>\n",
       "      <td>0</td>\n",
       "      <td>1</td>\n",
       "      <td>0</td>\n",
       "      <td>0</td>\n",
       "      <td>0</td>\n",
       "      <td>...</td>\n",
       "      <td>0</td>\n",
       "      <td>0</td>\n",
       "      <td>0</td>\n",
       "      <td>0</td>\n",
       "      <td>1</td>\n",
       "      <td>0</td>\n",
       "      <td>0</td>\n",
       "      <td>0</td>\n",
       "      <td>0</td>\n",
       "      <td>0</td>\n",
       "    </tr>\n",
       "  </tbody>\n",
       "</table>\n",
       "<p>5 rows × 30 columns</p>\n",
       "</div>"
      ],
      "text/plain": [
       "   Experience Rating              Place   Fees  MBBS  BDS  BAMS  BHMS  \\\n",
       "0          24     10           Kakkanad  100.0     0    0     0     1   \n",
       "1          12     10         Whitefield  350.0     0    0     1     0   \n",
       "2           9      0    Mathikere - BEL  300.0     1    0     0     0   \n",
       "3          12      0  Bannerghatta Road  250.0     0    0     1     0   \n",
       "4          20     10       Keelkattalai  250.0     0    0     1     0   \n",
       "\n",
       "   MD - Dermatology  MS - ENT  ...  City_ Mumbai  City_ Thiruvananthapuram  \\\n",
       "0                 0         0  ...             0                         0   \n",
       "1                 0         0  ...             0                         0   \n",
       "2                 0         0  ...             0                         0   \n",
       "3                 0         0  ...             0                         0   \n",
       "4                 0         0  ...             0                         0   \n",
       "\n",
       "   City_Unknown  City_e  Profile_Ayurveda  Profile_Dentist  \\\n",
       "0             0       0                 0                0   \n",
       "1             0       0                 1                0   \n",
       "2             0       0                 0                0   \n",
       "3             0       0                 1                0   \n",
       "4             0       0                 1                0   \n",
       "\n",
       "   Profile_Dermatologists  Profile_ENT Specialist  Profile_General Medicine  \\\n",
       "0                       0                       0                         0   \n",
       "1                       0                       0                         0   \n",
       "2                       0                       1                         0   \n",
       "3                       0                       0                         0   \n",
       "4                       0                       0                         0   \n",
       "\n",
       "   Profile_Homeopath  \n",
       "0                  1  \n",
       "1                  0  \n",
       "2                  0  \n",
       "3                  0  \n",
       "4                  0  \n",
       "\n",
       "[5 rows x 30 columns]"
      ]
     },
     "execution_count": 27,
     "metadata": {},
     "output_type": "execute_result"
    }
   ],
   "source": [
    "df.head()"
   ]
  },
  {
   "cell_type": "code",
   "execution_count": 48,
   "metadata": {},
   "outputs": [
    {
     "data": {
      "text/plain": [
       "Experience                               0.984224\n",
       "Rating                                   0.235010\n",
       "Fees                                     0.868130\n",
       "MBBS                                     0.126091\n",
       "BDS                                      1.283447\n",
       "BAMS                                     2.221212\n",
       "BHMS                                     2.258682\n",
       "MD - Dermatology                         2.676054\n",
       "MS - ENT                                 3.407118\n",
       "Venereology & Leprosy                    4.188374\n",
       "MD - General Medicine                    4.265539\n",
       "Diploma in Otorhinolaryngology (DLO)     4.653745\n",
       "MD - Homeopathy                          5.675347\n",
       "City_ Bangalore                          1.415970\n",
       "City_ Chennai                            2.032012\n",
       "City_ Coimbatore                         4.870220\n",
       "City_ Delhi                              1.488145\n",
       "City_ Ernakulam                          6.048309\n",
       "City_ Hyderabad                          1.839561\n",
       "City_ Mumbai                             1.482310\n",
       "City_ Thiruvananthapuram                 8.614301\n",
       "City_Unknown                            15.921265\n",
       "City_e                                  89.151556\n",
       "Profile_Ayurveda                         2.194604\n",
       "Profile_Dentist                          1.275028\n",
       "Profile_Dermatologists                   1.731686\n",
       "Profile_ENT Specialist                   2.322343\n",
       "Profile_General Medicine                 1.473603\n",
       "Profile_Homeopath                        2.064478\n",
       "dtype: float64"
      ]
     },
     "execution_count": 48,
     "metadata": {},
     "output_type": "execute_result"
    }
   ],
   "source": [
    "df.dtypes\n",
    "df.skew()"
   ]
  },
  {
   "cell_type": "code",
   "execution_count": 89,
   "metadata": {},
   "outputs": [
    {
     "data": {
      "text/plain": [
       "array([[ 0.58525227,  1.17083142, -0.9389509 , ..., -0.37130427,\n",
       "        -0.50538093,  2.46909469],\n",
       "       [-0.4886861 ,  1.17083142, -0.9389509 , ..., -0.37130427,\n",
       "        -0.50538093, -0.40500674],\n",
       "       [-0.75717069, -0.89310384,  1.06501842, ...,  2.69320903,\n",
       "        -0.50538093, -0.40500674],\n",
       "       ...,\n",
       "       [-0.75717069, -0.89310384, -0.9389509 , ..., -0.37130427,\n",
       "         1.97870544, -0.40500674],\n",
       "       [-0.4886861 ,  1.17083142,  1.06501842, ..., -0.37130427,\n",
       "        -0.50538093, -0.40500674],\n",
       "       [-0.84666555, -0.89310384,  1.06501842, ..., -0.37130427,\n",
       "        -0.50538093, -0.40500674]])"
      ]
     },
     "execution_count": 89,
     "metadata": {},
     "output_type": "execute_result"
    }
   ],
   "source": [
    "x=df.drop([\"Fees\",\"Place\",\"City_e\"],axis=1)\n",
    "from sklearn.preprocessing import StandardScaler,OrdinalEncoder\n",
    "\n",
    "enc = OrdinalEncoder()\n",
    "x = enc.fit_transform(x)\n",
    "\n",
    "scaler = StandardScaler()\n",
    "x = scaler.fit_transform(x)\n",
    "x\n",
    "\n",
    "\n"
   ]
  },
  {
   "cell_type": "code",
   "execution_count": 76,
   "metadata": {},
   "outputs": [],
   "source": [
    "y=df[\"Fees\"].values.reshape(-1,1)\n"
   ]
  },
  {
   "cell_type": "code",
   "execution_count": 83,
   "metadata": {},
   "outputs": [],
   "source": [
    "from sklearn.model_selection import train_test_split\n",
    "x_train,x_test,y_train,y_test=train_test_split(x,y,test_size=.2,random_state=45)"
   ]
  },
  {
   "cell_type": "code",
   "execution_count": 84,
   "metadata": {},
   "outputs": [
    {
     "name": "stdout",
     "output_type": "stream",
     "text": [
      "(6358, 27)\n",
      "(1590, 27)\n",
      "(6358, 1)\n",
      "(1590, 1)\n"
     ]
    }
   ],
   "source": [
    "from sklearn.metrics import mean_squared_error\n",
    "print(x_train.shape)\n",
    "print(x_test.shape)\n",
    "print(y_train.shape)\n",
    "print(y_test.shape)"
   ]
  },
  {
   "cell_type": "code",
   "execution_count": 85,
   "metadata": {},
   "outputs": [
    {
     "data": {
      "text/plain": [
       "array([[-8.61275292e+00,  1.82254872e+01,  1.38767298e+01,\n",
       "        -7.00545862e+00, -5.09285770e+00, -1.71538108e-01,\n",
       "         3.80041571e+00,  6.44669040e+00,  1.04398750e+00,\n",
       "         3.55261849e+00, -9.35324916e+00,  2.12096407e+00,\n",
       "         8.16354123e+14,  7.01661854e+14,  3.80003583e+14,\n",
       "         8.02472451e+14,  3.14060739e+14,  7.36205145e+14,\n",
       "         8.03593644e+14,  2.26237154e+14,  1.24683795e+14,\n",
       "        -1.02563899e+14, -1.28389071e+14, -1.15111270e+14,\n",
       "        -9.93644534e+13, -1.22581764e+14, -1.05947440e+14]])"
      ]
     },
     "execution_count": 85,
     "metadata": {},
     "output_type": "execute_result"
    }
   ],
   "source": [
    "lm=LinearRegression()\n",
    "lm.fit(x_train,y_train)\n",
    "lm.coef_"
   ]
  },
  {
   "cell_type": "code",
   "execution_count": 86,
   "metadata": {},
   "outputs": [
    {
     "data": {
      "text/plain": [
       "0.14763698797275993"
      ]
     },
     "execution_count": 86,
     "metadata": {},
     "output_type": "execute_result"
    }
   ],
   "source": [
    "lm.score(x_train,y_train)"
   ]
  },
  {
   "cell_type": "code",
   "execution_count": 87,
   "metadata": {},
   "outputs": [],
   "source": [
    "def linreg():\n",
    "    lm.fit(x_train,y_train)\n",
    "    pred=lm.predict(x_test)\n",
    "    print(lm.score(x_train,y_train))\n",
    "    print(r2_score(y_test,pred))\n",
    "    print(mean_squared_error(y_test,pred))"
   ]
  },
  {
   "cell_type": "code",
   "execution_count": 88,
   "metadata": {},
   "outputs": [
    {
     "name": "stdout",
     "output_type": "stream",
     "text": [
      "0.14763698797275993\n",
      "-8.563283894325488e+22\n",
      "2.516612078780311e+27\n"
     ]
    }
   ],
   "source": [
    "linreg()"
   ]
  },
  {
   "cell_type": "code",
   "execution_count": null,
   "metadata": {},
   "outputs": [],
   "source": []
  },
  {
   "cell_type": "raw",
   "metadata": {},
   "source": []
  },
  {
   "cell_type": "code",
   "execution_count": 54,
   "metadata": {},
   "outputs": [
    {
     "data": {
      "text/plain": [
       "array([[-9.29309853e+00,  1.78363293e+01,  1.65031656e+01,\n",
       "        -5.52422071e+00, -4.69310817e+00,  4.04324713e-01,\n",
       "         3.25029687e+00,  6.15446460e+00, -3.17233247e-01,\n",
       "         3.27336506e+00, -1.04042020e+01,  2.88147715e+00,\n",
       "        -4.38632163e+14, -3.77007291e+14, -2.04178296e+14,\n",
       "        -4.31173454e+14, -1.68746795e+14, -3.95567617e+14,\n",
       "        -4.31775878e+14, -1.21558634e+14, -6.69933808e+13,\n",
       "         5.95983371e+13,  7.46049557e+13,  6.68894254e+13,\n",
       "         5.77391873e+13,  7.12304166e+13,  6.15644616e+13]])"
      ]
     },
     "execution_count": 54,
     "metadata": {},
     "output_type": "execute_result"
    }
   ],
   "source": [
    "lm=LinearRegression()\n",
    "lm.fit(x_train,y_train)\n",
    "lm.coef_"
   ]
  },
  {
   "cell_type": "code",
   "execution_count": 70,
   "metadata": {},
   "outputs": [
    {
     "data": {
      "text/plain": [
       "0.15210806095434193"
      ]
     },
     "execution_count": 70,
     "metadata": {},
     "output_type": "execute_result"
    }
   ],
   "source": [
    "lm.score(x_train,y_train)"
   ]
  },
  {
   "cell_type": "code",
   "execution_count": 71,
   "metadata": {},
   "outputs": [
    {
     "data": {
      "text/plain": [
       "SVR(C=1.0, cache_size=200, coef0=0.0, degree=3, epsilon=0.1, gamma='scale',\n",
       "    kernel='rbf', max_iter=-1, shrinking=True, tol=0.001, verbose=False)"
      ]
     },
     "execution_count": 71,
     "metadata": {},
     "output_type": "execute_result"
    }
   ],
   "source": [
    "from sklearn.svm import SVR\n",
    "m = SVR(gamma=\"scale\")\n",
    "m.fit(x_train,y_train)\n"
   ]
  },
  {
   "cell_type": "code",
   "execution_count": 72,
   "metadata": {},
   "outputs": [],
   "source": [
    "def score(y_pred,y):\n",
    "    y_pred = np.log(y_pred)\n",
    "    y = np.log(y)\n",
    "    return 1-((np.sum((y_pred-y)**2))/len(y))**1/2"
   ]
  },
  {
   "cell_type": "code",
   "execution_count": 73,
   "metadata": {},
   "outputs": [
    {
     "data": {
      "text/plain": [
       "-464.23299878234127"
      ]
     },
     "execution_count": 73,
     "metadata": {},
     "output_type": "execute_result"
    }
   ],
   "source": [
    "y_pred = m.predict(scaler.transform(x_test))\n",
    "score(y_pred,y_test)"
   ]
  },
  {
   "cell_type": "code",
   "execution_count": null,
   "metadata": {},
   "outputs": [],
   "source": []
  },
  {
   "cell_type": "code",
   "execution_count": null,
   "metadata": {},
   "outputs": [],
   "source": []
  }
 ],
 "metadata": {
  "kernelspec": {
   "display_name": "Python 3",
   "language": "python",
   "name": "python3"
  },
  "language_info": {
   "codemirror_mode": {
    "name": "ipython",
    "version": 3
   },
   "file_extension": ".py",
   "mimetype": "text/x-python",
   "name": "python",
   "nbconvert_exporter": "python",
   "pygments_lexer": "ipython3",
   "version": "3.7.3"
  }
 },
 "nbformat": 4,
 "nbformat_minor": 2
}
