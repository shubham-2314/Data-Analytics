{
 "cells": [
  {
   "cell_type": "code",
   "execution_count": 1,
   "metadata": {},
   "outputs": [],
   "source": [
    "import pandas as pd \n",
    "import numpy as np\n",
    "import matplotlib.pyplot as plt\n",
    "import seaborn as sns\n",
    "import sklearn\n",
    "from sklearn.linear_model import LinearRegression\n",
    "import warnings\n",
    "warnings.filterwarnings(\"ignore\")"
   ]
  },
  {
   "cell_type": "code",
   "execution_count": 2,
   "metadata": {},
   "outputs": [],
   "source": [
    "bk=pd.read_csv(\"bikes.csv\")"
   ]
  },
  {
   "cell_type": "code",
   "execution_count": 3,
   "metadata": {},
   "outputs": [
    {
     "data": {
      "text/html": [
       "<div>\n",
       "<style scoped>\n",
       "    .dataframe tbody tr th:only-of-type {\n",
       "        vertical-align: middle;\n",
       "    }\n",
       "\n",
       "    .dataframe tbody tr th {\n",
       "        vertical-align: top;\n",
       "    }\n",
       "\n",
       "    .dataframe thead th {\n",
       "        text-align: right;\n",
       "    }\n",
       "</style>\n",
       "<table border=\"1\" class=\"dataframe\">\n",
       "  <thead>\n",
       "    <tr style=\"text-align: right;\">\n",
       "      <th></th>\n",
       "      <th>date</th>\n",
       "      <th>temperature</th>\n",
       "      <th>humidity</th>\n",
       "      <th>windspeed</th>\n",
       "      <th>count</th>\n",
       "    </tr>\n",
       "  </thead>\n",
       "  <tbody>\n",
       "    <tr>\n",
       "      <th>0</th>\n",
       "      <td>2011-01-03</td>\n",
       "      <td>2.716070</td>\n",
       "      <td>45.715346</td>\n",
       "      <td>21.414957</td>\n",
       "      <td>120.0</td>\n",
       "    </tr>\n",
       "    <tr>\n",
       "      <th>1</th>\n",
       "      <td>2011-01-04</td>\n",
       "      <td>2.896673</td>\n",
       "      <td>54.267219</td>\n",
       "      <td>15.136882</td>\n",
       "      <td>108.0</td>\n",
       "    </tr>\n",
       "    <tr>\n",
       "      <th>2</th>\n",
       "      <td>2011-01-05</td>\n",
       "      <td>4.235654</td>\n",
       "      <td>45.697702</td>\n",
       "      <td>17.034578</td>\n",
       "      <td>82.0</td>\n",
       "    </tr>\n",
       "    <tr>\n",
       "      <th>3</th>\n",
       "      <td>2011-01-06</td>\n",
       "      <td>3.112643</td>\n",
       "      <td>50.237349</td>\n",
       "      <td>10.091568</td>\n",
       "      <td>88.0</td>\n",
       "    </tr>\n",
       "    <tr>\n",
       "      <th>4</th>\n",
       "      <td>2011-01-07</td>\n",
       "      <td>2.723918</td>\n",
       "      <td>49.144928</td>\n",
       "      <td>15.738204</td>\n",
       "      <td>148.0</td>\n",
       "    </tr>\n",
       "  </tbody>\n",
       "</table>\n",
       "</div>"
      ],
      "text/plain": [
       "         date  temperature   humidity  windspeed  count\n",
       "0  2011-01-03     2.716070  45.715346  21.414957  120.0\n",
       "1  2011-01-04     2.896673  54.267219  15.136882  108.0\n",
       "2  2011-01-05     4.235654  45.697702  17.034578   82.0\n",
       "3  2011-01-06     3.112643  50.237349  10.091568   88.0\n",
       "4  2011-01-07     2.723918  49.144928  15.738204  148.0"
      ]
     },
     "execution_count": 3,
     "metadata": {},
     "output_type": "execute_result"
    }
   ],
   "source": [
    "bk.head()"
   ]
  },
  {
   "cell_type": "code",
   "execution_count": 4,
   "metadata": {},
   "outputs": [],
   "source": [
    "df=pd.DataFrame(data=bk)"
   ]
  },
  {
   "cell_type": "code",
   "execution_count": 5,
   "metadata": {},
   "outputs": [
    {
     "data": {
      "text/html": [
       "<div>\n",
       "<style scoped>\n",
       "    .dataframe tbody tr th:only-of-type {\n",
       "        vertical-align: middle;\n",
       "    }\n",
       "\n",
       "    .dataframe tbody tr th {\n",
       "        vertical-align: top;\n",
       "    }\n",
       "\n",
       "    .dataframe thead th {\n",
       "        text-align: right;\n",
       "    }\n",
       "</style>\n",
       "<table border=\"1\" class=\"dataframe\">\n",
       "  <thead>\n",
       "    <tr style=\"text-align: right;\">\n",
       "      <th></th>\n",
       "      <th>date</th>\n",
       "      <th>temperature</th>\n",
       "      <th>humidity</th>\n",
       "      <th>windspeed</th>\n",
       "      <th>count</th>\n",
       "    </tr>\n",
       "  </thead>\n",
       "  <tbody>\n",
       "    <tr>\n",
       "      <th>0</th>\n",
       "      <td>2011-01-03</td>\n",
       "      <td>2.716070</td>\n",
       "      <td>45.715346</td>\n",
       "      <td>21.414957</td>\n",
       "      <td>120.0</td>\n",
       "    </tr>\n",
       "    <tr>\n",
       "      <th>1</th>\n",
       "      <td>2011-01-04</td>\n",
       "      <td>2.896673</td>\n",
       "      <td>54.267219</td>\n",
       "      <td>15.136882</td>\n",
       "      <td>108.0</td>\n",
       "    </tr>\n",
       "    <tr>\n",
       "      <th>2</th>\n",
       "      <td>2011-01-05</td>\n",
       "      <td>4.235654</td>\n",
       "      <td>45.697702</td>\n",
       "      <td>17.034578</td>\n",
       "      <td>82.0</td>\n",
       "    </tr>\n",
       "    <tr>\n",
       "      <th>3</th>\n",
       "      <td>2011-01-06</td>\n",
       "      <td>3.112643</td>\n",
       "      <td>50.237349</td>\n",
       "      <td>10.091568</td>\n",
       "      <td>88.0</td>\n",
       "    </tr>\n",
       "    <tr>\n",
       "      <th>4</th>\n",
       "      <td>2011-01-07</td>\n",
       "      <td>2.723918</td>\n",
       "      <td>49.144928</td>\n",
       "      <td>15.738204</td>\n",
       "      <td>148.0</td>\n",
       "    </tr>\n",
       "  </tbody>\n",
       "</table>\n",
       "</div>"
      ],
      "text/plain": [
       "         date  temperature   humidity  windspeed  count\n",
       "0  2011-01-03     2.716070  45.715346  21.414957  120.0\n",
       "1  2011-01-04     2.896673  54.267219  15.136882  108.0\n",
       "2  2011-01-05     4.235654  45.697702  17.034578   82.0\n",
       "3  2011-01-06     3.112643  50.237349  10.091568   88.0\n",
       "4  2011-01-07     2.723918  49.144928  15.738204  148.0"
      ]
     },
     "execution_count": 5,
     "metadata": {},
     "output_type": "execute_result"
    }
   ],
   "source": [
    "df.head()"
   ]
  },
  {
   "cell_type": "code",
   "execution_count": 6,
   "metadata": {},
   "outputs": [
    {
     "data": {
      "text/plain": [
       "(191, 5)"
      ]
     },
     "execution_count": 6,
     "metadata": {},
     "output_type": "execute_result"
    }
   ],
   "source": [
    "df.shape"
   ]
  },
  {
   "cell_type": "code",
   "execution_count": 7,
   "metadata": {},
   "outputs": [
    {
     "data": {
      "text/plain": [
       "date            object\n",
       "temperature    float64\n",
       "humidity       float64\n",
       "windspeed      float64\n",
       "count          float64\n",
       "dtype: object"
      ]
     },
     "execution_count": 7,
     "metadata": {},
     "output_type": "execute_result"
    }
   ],
   "source": [
    "df.dtypes"
   ]
  },
  {
   "cell_type": "code",
   "execution_count": 8,
   "metadata": {},
   "outputs": [
    {
     "data": {
      "text/html": [
       "<div>\n",
       "<style scoped>\n",
       "    .dataframe tbody tr th:only-of-type {\n",
       "        vertical-align: middle;\n",
       "    }\n",
       "\n",
       "    .dataframe tbody tr th {\n",
       "        vertical-align: top;\n",
       "    }\n",
       "\n",
       "    .dataframe thead th {\n",
       "        text-align: right;\n",
       "    }\n",
       "</style>\n",
       "<table border=\"1\" class=\"dataframe\">\n",
       "  <thead>\n",
       "    <tr style=\"text-align: right;\">\n",
       "      <th></th>\n",
       "      <th>temperature</th>\n",
       "      <th>humidity</th>\n",
       "      <th>windspeed</th>\n",
       "      <th>count</th>\n",
       "    </tr>\n",
       "  </thead>\n",
       "  <tbody>\n",
       "    <tr>\n",
       "      <th>count</th>\n",
       "      <td>191.000000</td>\n",
       "      <td>191.000000</td>\n",
       "      <td>191.000000</td>\n",
       "      <td>191.000000</td>\n",
       "    </tr>\n",
       "    <tr>\n",
       "      <th>mean</th>\n",
       "      <td>15.319033</td>\n",
       "      <td>55.469244</td>\n",
       "      <td>18.605591</td>\n",
       "      <td>461.976440</td>\n",
       "    </tr>\n",
       "    <tr>\n",
       "      <th>std</th>\n",
       "      <td>9.876723</td>\n",
       "      <td>7.998748</td>\n",
       "      <td>5.049424</td>\n",
       "      <td>321.669925</td>\n",
       "    </tr>\n",
       "    <tr>\n",
       "      <th>min</th>\n",
       "      <td>-2.200000</td>\n",
       "      <td>21.300000</td>\n",
       "      <td>6.941802</td>\n",
       "      <td>9.000000</td>\n",
       "    </tr>\n",
       "    <tr>\n",
       "      <th>25%</th>\n",
       "      <td>6.091402</td>\n",
       "      <td>49.593148</td>\n",
       "      <td>14.600733</td>\n",
       "      <td>144.000000</td>\n",
       "    </tr>\n",
       "    <tr>\n",
       "      <th>50%</th>\n",
       "      <td>15.769749</td>\n",
       "      <td>55.080463</td>\n",
       "      <td>18.474898</td>\n",
       "      <td>460.000000</td>\n",
       "    </tr>\n",
       "    <tr>\n",
       "      <th>75%</th>\n",
       "      <td>24.255189</td>\n",
       "      <td>62.046729</td>\n",
       "      <td>21.621460</td>\n",
       "      <td>740.333333</td>\n",
       "    </tr>\n",
       "    <tr>\n",
       "      <th>max</th>\n",
       "      <td>33.113161</td>\n",
       "      <td>72.575560</td>\n",
       "      <td>33.512660</td>\n",
       "      <td>1246.000000</td>\n",
       "    </tr>\n",
       "  </tbody>\n",
       "</table>\n",
       "</div>"
      ],
      "text/plain": [
       "       temperature    humidity   windspeed        count\n",
       "count   191.000000  191.000000  191.000000   191.000000\n",
       "mean     15.319033   55.469244   18.605591   461.976440\n",
       "std       9.876723    7.998748    5.049424   321.669925\n",
       "min      -2.200000   21.300000    6.941802     9.000000\n",
       "25%       6.091402   49.593148   14.600733   144.000000\n",
       "50%      15.769749   55.080463   18.474898   460.000000\n",
       "75%      24.255189   62.046729   21.621460   740.333333\n",
       "max      33.113161   72.575560   33.512660  1246.000000"
      ]
     },
     "execution_count": 8,
     "metadata": {},
     "output_type": "execute_result"
    }
   ],
   "source": [
    "df.describe()\n"
   ]
  },
  {
   "cell_type": "code",
   "execution_count": 9,
   "metadata": {},
   "outputs": [
    {
     "data": {
      "text/plain": [
       "date           0\n",
       "temperature    0\n",
       "humidity       0\n",
       "windspeed      0\n",
       "count          0\n",
       "dtype: int64"
      ]
     },
     "execution_count": 9,
     "metadata": {},
     "output_type": "execute_result"
    }
   ],
   "source": [
    "df.isnull().sum()"
   ]
  },
  {
   "cell_type": "code",
   "execution_count": 10,
   "metadata": {},
   "outputs": [
    {
     "data": {
      "text/plain": [
       "<matplotlib.axes._subplots.AxesSubplot at 0x9660d586d8>"
      ]
     },
     "execution_count": 10,
     "metadata": {},
     "output_type": "execute_result"
    },
    {
     "data": {
      "image/png": "[encoded data removed]",
      "text/plain": [
       "<Figure size 432x288 with 2 Axes>"
      ]
     },
     "metadata": {
      "needs_background": "light"
     },
     "output_type": "display_data"
    }
   ],
   "source": [
    "sns.heatmap(df.isnull())"
   ]
  },
  {
   "cell_type": "code",
   "execution_count": 11,
   "metadata": {},
   "outputs": [
    {
     "data": {
      "text/plain": [
       "['date', 'temperature', 'humidity', 'windspeed', 'count']"
      ]
     },
     "execution_count": 11,
     "metadata": {},
     "output_type": "execute_result"
    }
   ],
   "source": [
    "list(df.columns.values)"
   ]
  },
  {
   "cell_type": "code",
   "execution_count": 12,
   "metadata": {},
   "outputs": [
    {
     "data": {
      "image/png": "[encoded data removed]",
      "text/plain": [
       "<Figure size 432x288 with 1 Axes>"
      ]
     },
     "metadata": {
      "needs_background": "light"
     },
     "output_type": "display_data"
    }
   ],
   "source": [
    "plt.scatter(df[\"temperature\"],df[\"count\"])\n",
    "plt.show()"
   ]
  },
  {
   "cell_type": "code",
   "execution_count": 13,
   "metadata": {},
   "outputs": [
    {
     "data": {
      "image/png": "[encoded data removed]",
      "text/plain": [
       "<Figure size 432x288 with 1 Axes>"
      ]
     },
     "metadata": {
      "needs_background": "light"
     },
     "output_type": "display_data"
    }
   ],
   "source": [
    "plt.scatter(df[\"humidity\"],df[\"count\"])\n",
    "plt.show()"
   ]
  },
  {
   "cell_type": "code",
   "execution_count": 14,
   "metadata": {},
   "outputs": [
    {
     "data": {
      "image/png": "[encoded data removed]",
      "text/plain": [
       "<Figure size 432x288 with 1 Axes>"
      ]
     },
     "metadata": {
      "needs_background": "light"
     },
     "output_type": "display_data"
    }
   ],
   "source": [
    "plt.scatter(df[\"windspeed\"],df[\"count\"])\n",
    "plt.show()"
   ]
  },
  {
   "cell_type": "code",
   "execution_count": 15,
   "metadata": {},
   "outputs": [
    {
     "data": {
      "text/plain": [
       "<matplotlib.axes._subplots.AxesSubplot at 0x96617ae860>"
      ]
     },
     "execution_count": 15,
     "metadata": {},
     "output_type": "execute_result"
    },
    {
     "data": {
      "image/png": "[encoded data removed]",
      "text/plain": [
       "<Figure size 432x288 with 1 Axes>"
      ]
     },
     "metadata": {
      "needs_background": "light"
     },
     "output_type": "display_data"
    }
   ],
   "source": [
    "df[\"windspeed\"].plot.box()"
   ]
  },
  {
   "cell_type": "code",
   "execution_count": 16,
   "metadata": {},
   "outputs": [
    {
     "data": {
      "text/plain": [
       "<matplotlib.axes._subplots.AxesSubplot at 0x966171f278>"
      ]
     },
     "execution_count": 16,
     "metadata": {},
     "output_type": "execute_result"
    },
    {
     "data": {
      "image/png": "[encoded data removed]",
      "text/plain": [
       "<Figure size 432x288 with 1 Axes>"
      ]
     },
     "metadata": {
      "needs_background": "light"
     },
     "output_type": "display_data"
    }
   ],
   "source": [
    "df[\"humidity\"].plot.box()  "
   ]
  },
  {
   "cell_type": "code",
   "execution_count": 17,
   "metadata": {},
   "outputs": [
    {
     "data": {
      "text/plain": [
       "<matplotlib.axes._subplots.AxesSubplot at 0x96616ec438>"
      ]
     },
     "execution_count": 17,
     "metadata": {},
     "output_type": "execute_result"
    },
    {
     "data": {
      "image/png": "[encoded data removed]",
      "text/plain": [
       "<Figure size 432x288 with 1 Axes>"
      ]
     },
     "metadata": {
      "needs_background": "light"
     },
     "output_type": "display_data"
    }
   ],
   "source": [
    "df[\"temperature\"].plot.box()  "
   ]
  },
  {
   "cell_type": "code",
   "execution_count": 18,
   "metadata": {},
   "outputs": [],
   "source": [
    "df_new=df.drop([\"date\"],axis=1)"
   ]
  },
  {
   "cell_type": "code",
   "execution_count": 19,
   "metadata": {},
   "outputs": [
    {
     "data": {
      "text/plain": [
       "(191, 4)"
      ]
     },
     "execution_count": 19,
     "metadata": {},
     "output_type": "execute_result"
    }
   ],
   "source": [
    "df_new.shape"
   ]
  },
  {
   "cell_type": "code",
   "execution_count": 20,
   "metadata": {},
   "outputs": [
    {
     "data": {
      "text/plain": [
       "array([[1.27938042, 1.22263292, 0.55783569, 1.06592246],\n",
       "       [1.26104657, 0.15067154, 0.68875681, 1.10332582],\n",
       "       [1.12512099, 1.22484456, 0.3119449 , 1.18436645],\n",
       "       [1.23912261, 0.65580819, 1.69056887, 1.16566476],\n",
       "       [1.27858373, 0.79274114, 0.56935655, 0.97864794],\n",
       "       [1.35537645, 0.82955288, 0.3118552 , 1.08981905],\n",
       "       [1.43216917, 0.86636462, 0.05435384, 1.20099016],\n",
       "       [1.50896189, 0.90317636, 0.20314752, 1.31216128],\n",
       "       [1.41689937, 0.52072335, 1.22930146, 1.30592738],\n",
       "       [1.39856553, 0.0869118 , 1.35550871, 1.36203243],\n",
       "       [1.43752746, 0.99066227, 1.30413686, 1.32151212],\n",
       "       [1.45835221, 0.51887524, 1.16675442, 1.27164096],\n",
       "       [1.38801575, 0.04775526, 1.09513197, 1.30670662],\n",
       "       [1.31767929, 0.61438577, 1.02350952, 1.34177227],\n",
       "       [1.24734283, 1.18101627, 0.95188707, 1.37683793],\n",
       "       [1.17700638, 1.74764678, 0.88026462, 1.41190358],\n",
       "       [0.79627659, 0.90828594, 0.00860026, 1.19683423],\n",
       "       [0.95010237, 0.51532682, 0.18441466, 1.1812495 ],\n",
       "       [1.37449858, 1.08398524, 2.04407852, 1.20618508],\n",
       "       [1.50914291, 1.00313426, 1.12385144, 1.19475627],\n",
       "       [1.64378724, 0.92228328, 0.20362437, 1.18332746],\n",
       "       [1.77843156, 0.8414323 , 0.71660271, 1.17189866],\n",
       "       [1.14266319, 0.03495257, 1.12075062, 0.86020395],\n",
       "       [1.17280613, 1.75347684, 1.20286618, 1.3339799 ],\n",
       "       [1.28625813, 0.52867407, 1.34678961, 1.3932019 ],\n",
       "       [1.24350942, 1.26735612, 1.21275822, 1.32151212],\n",
       "       [1.28157046, 0.82574357, 0.91110851, 1.31735619],\n",
       "       [1.31963151, 0.38413101, 0.6094588 , 1.31320026],\n",
       "       [1.35769255, 0.05748154, 0.30780909, 1.30904433],\n",
       "       [1.3005077 , 1.52296896, 2.20545167, 1.29345959],\n",
       "       [0.95850791, 1.14399398, 0.78444123, 1.21553592],\n",
       "       [1.32681344, 1.21876254, 0.97485843, 1.24982233],\n",
       "       [1.20404829, 0.18719165, 1.14846904, 1.16566476],\n",
       "       [1.10259195, 0.17002149, 1.53764448, 1.13241733],\n",
       "       [1.00113561, 0.52723463, 1.92681991, 1.09916989],\n",
       "       [0.89967926, 0.88444778, 2.31599534, 1.06592246],\n",
       "       [1.15600011, 0.51823835, 2.16741629, 1.24047149],\n",
       "       [1.58989098, 0.82012773, 0.28448142, 1.27475791],\n",
       "       [1.54166127, 1.22180705, 0.18428143, 1.29345959],\n",
       "       [1.31605315, 0.73907379, 1.42167326, 0.97553099],\n",
       "       [0.93635199, 1.04359708, 0.03888129, 0.91423103],\n",
       "       [0.55665084, 1.34812038, 1.49943583, 0.85293108],\n",
       "       [0.17694968, 1.65264367, 2.95999038, 0.79163112],\n",
       "       [0.92781536, 2.08296938, 1.16779678, 1.00358352],\n",
       "       [0.66473782, 1.31918237, 0.6071538 , 0.76046165],\n",
       "       [0.07190321, 0.74862025, 0.29998496, 0.63266682],\n",
       "       [0.36089852, 0.6669644 , 0.79318025, 0.36475624],\n",
       "       [0.06699831, 0.56003737, 0.54799897, 0.02875832],\n",
       "       [0.49489513, 0.45311033, 0.3028177 , 0.42227289],\n",
       "       [0.92279196, 0.3461833 , 0.05763643, 0.81578746],\n",
       "       [1.35068878, 0.23925627, 0.18754485, 1.20930202],\n",
       "       [1.15143177, 1.32222688, 1.62615505, 1.00670046],\n",
       "       [0.77873943, 0.59789992, 0.58881177, 1.1282614 ],\n",
       "       [0.43235283, 0.70136426, 1.94913903, 1.06592246],\n",
       "       [0.36020576, 1.08441258, 1.68072215, 1.10644277],\n",
       "       [0.28805869, 1.4674609 , 1.41230528, 1.14696308],\n",
       "       [0.21591162, 1.85050921, 1.1438884 , 1.18748339],\n",
       "       [0.92489082, 0.53865406, 0.10623927, 1.01293436],\n",
       "       [0.58033457, 1.13647679, 1.40091764, 0.71994133],\n",
       "       [1.26945211, 2.05507887, 0.23837272, 1.05657162],\n",
       "       [0.95010237, 0.01082006, 0.07900817, 0.77292943],\n",
       "       [0.94998136, 0.14872818, 0.5725518 , 0.74175996],\n",
       "       [0.94986034, 0.28663631, 1.22411178, 0.71059049],\n",
       "       [0.94973933, 0.42454443, 1.87567175, 0.67942102],\n",
       "       [0.7946328 , 1.33769439, 1.25029211, 0.45500083],\n",
       "       [0.77782677, 1.14399398, 0.15899917, 0.84461922],\n",
       "       [0.30759092, 4.2830511 , 0.75000919, 1.29657654],\n",
       "       [0.6735064 , 0.26317182, 0.34057821, 0.67007018],\n",
       "       [0.6588921 , 0.09285618, 0.11286893, 0.55370416],\n",
       "       [0.6442778 , 0.44888418, 0.56631607, 0.43733813],\n",
       "       [0.6296635 , 0.80491218, 1.01976321, 0.32097211],\n",
       "       [0.66912463, 0.30577396, 0.34864313, 0.53915841],\n",
       "       [0.42797106, 1.15172774, 0.08225167, 0.4394161 ],\n",
       "       [0.17694968, 0.0633116 , 0.00927437, 0.11837055],\n",
       "       [0.45333921, 0.60712403, 0.31291644, 1.31542509],\n",
       "       [0.2691856 , 0.11213108, 0.58564381, 0.81359662],\n",
       "       [0.085032  , 0.38286188, 0.85837118, 0.31176814],\n",
       "       [0.09912161, 0.87785484, 1.13109855, 0.19006033],\n",
       "       [0.04248637, 0.08832598, 0.23831607, 0.00616046],\n",
       "       [0.52004366, 1.59295769, 0.35886359, 0.80721585],\n",
       "       [0.83245013, 1.3568717 , 0.49378729, 0.92254289],\n",
       "       [0.9374966 , 0.81860898, 0.30878063, 0.50487199],\n",
       "       [0.93719238, 1.26846387, 0.22133848, 0.58591261],\n",
       "       [0.93688816, 1.71831876, 0.13389632, 0.66695323],\n",
       "       [0.93658394, 2.16817366, 0.04645416, 0.74799386],\n",
       "       [0.74420968, 2.08423617, 0.25596408, 0.45188389],\n",
       "       [0.75681546, 0.24288909, 0.5104071 , 0.916309  ],\n",
       "       [0.91649033, 2.14424491, 0.12353319, 0.88202258],\n",
       "       [0.75681546, 0.51992548, 0.70512433, 0.48305336],\n",
       "       [0.29740545, 0.08664351, 1.30407548, 0.03940789],\n",
       "       [0.16200456, 0.6932125 , 1.90302664, 0.40423757],\n",
       "       [0.62141457, 1.29978149, 2.50197779, 0.84788304],\n",
       "       [0.18114993, 0.21080626, 2.53733047, 0.91942595],\n",
       "       [0.29880721, 0.98775074, 0.76680738, 0.15265697],\n",
       "       [0.06349768, 0.0633116 , 0.66020273, 0.33982067],\n",
       "       [0.57613433, 1.56975642, 0.25590742, 0.90384121],\n",
       "       [0.13943825, 1.29144857, 0.71614371, 0.19421626],\n",
       "       [0.29725783, 1.01314072, 1.17638   , 0.51540868],\n",
       "       [0.73395391, 0.73483287, 1.63661629, 1.22503363],\n",
       "       [0.26425254, 0.89028484, 0.93416603, 0.63890071],\n",
       "       [0.18955546, 1.45019468, 0.59052558, 0.78851417],\n",
       "       [0.08777165, 0.50074116, 1.39122124, 0.20890889],\n",
       "       [0.14449765, 0.4970965 , 1.20402274, 0.31800204],\n",
       "       [0.20122365, 0.49345184, 1.01682424, 0.42709518],\n",
       "       [0.25794965, 0.48980717, 0.82962574, 0.53618833],\n",
       "       [0.31467565, 0.48616251, 0.64242725, 0.64528148],\n",
       "       [0.28105856, 0.37702949, 0.72168749, 0.16512476],\n",
       "       [0.73066632, 0.01542572, 0.46741442, 0.47073244],\n",
       "       [0.04575407, 1.43392889, 1.64772066, 0.88216945],\n",
       "       [0.57192904, 0.82320764, 0.15009019, 0.88825648],\n",
       "       [0.11812104, 0.93305262, 0.0113197 , 0.26902299],\n",
       "       [0.33568696, 1.0428976 , 0.17272958, 0.35021049],\n",
       "       [0.78949497, 1.15274258, 0.33413947, 0.96944397],\n",
       "       [0.91555274, 0.82029611, 1.66531201, 0.673334  ],\n",
       "       [0.8567241 , 1.56392636, 1.46277065, 0.26501394],\n",
       "       [0.84411832, 0.62199004, 1.58610843, 0.33358677],\n",
       "       [0.30206988, 1.08398524, 0.44104156, 1.29672341],\n",
       "       [0.36790061, 0.44728144, 0.17377667, 1.26451496],\n",
       "       [0.43373134, 0.18942237, 0.09348823, 1.23230651],\n",
       "       [0.49956208, 0.82612617, 0.36075312, 1.20009805],\n",
       "       [0.83991808, 0.59574427, 1.89429706, 0.43956297],\n",
       "       [0.18114993, 0.87569919, 1.70066469, 0.64513461],\n",
       "       [0.04575407, 1.17438269, 1.22470665, 0.47384939],\n",
       "       [0.1466003 , 0.15371605, 0.27366874, 1.34659456],\n",
       "       [0.23624082, 0.15663224, 0.02700264, 1.10762862],\n",
       "       [0.32588135, 0.15954844, 0.21966347, 0.86866268],\n",
       "       [0.41552188, 0.16246464, 0.46632957, 0.62969674],\n",
       "       [0.41552188, 0.8594334 , 1.32081333, 0.72320515],\n",
       "       [0.46594499, 0.14665459, 1.25040542, 0.27436478],\n",
       "       [0.42812765, 0.94860645, 0.27275385, 0.7263221 ],\n",
       "       [0.31467565, 1.7593069 , 0.41356967, 0.71697126],\n",
       "       [0.42392573, 1.58336457, 0.66310629, 0.80112883],\n",
       "       [0.5331758 , 1.40742223, 0.91264291, 0.8852864 ],\n",
       "       [0.64242588, 1.2314799 , 1.16217953, 0.96944397],\n",
       "       [0.56259096, 1.58142355, 0.96922127, 0.673334  ],\n",
       "       [0.50376232, 1.80596839, 0.10526773, 0.23072752],\n",
       "       [0.40711634, 1.52309494, 1.42644644, 0.85099998],\n",
       "       [0.43653319, 0.75321891, 1.18849575, 1.39334877],\n",
       "       [0.59620637, 0.96415794, 0.6746875 , 1.31750306],\n",
       "       [0.75587956, 1.17509698, 0.16087926, 1.24165735],\n",
       "       [0.91555274, 1.38603601, 0.35292898, 1.16581164],\n",
       "       [1.05841654, 0.90194496, 0.02595083, 0.61411201],\n",
       "       [1.06261679, 0.58991421, 0.77463151, 0.86658472],\n",
       "       [1.30212657, 0.45868534, 0.13147063, 0.92268977],\n",
       "       [1.1676683 , 0.29246211, 0.44976642, 1.27490478],\n",
       "       [1.28532181, 0.26257167, 0.00825325, 1.1206159 ],\n",
       "       [1.40297531, 0.23268123, 0.46627292, 0.96632702],\n",
       "       [1.52062882, 0.2027908 , 0.92429258, 0.81203814],\n",
       "       [1.63828232, 0.17290036, 1.38231225, 0.65774927],\n",
       "       [1.58365897, 0.45576681, 0.02595083, 0.15903774],\n",
       "       [1.33574366, 2.14839484, 1.18072827, 0.85411693],\n",
       "       [0.8567241 , 1.80428126, 0.62599156, 1.35906235],\n",
       "       [0.95476848, 1.23076328, 0.00644634, 1.12529132],\n",
       "       [1.05281286, 0.6572453 , 0.61309888, 0.89152029],\n",
       "       [1.15085723, 0.08372732, 1.2326441 , 0.65774927],\n",
       "       [1.29792632, 0.09830597, 0.29908423, 0.9382745 ],\n",
       "       [1.64248257, 0.0708288 , 1.02130706, 0.66710011],\n",
       "       [1.80635768, 0.30536063, 0.83624375, 0.31488509],\n",
       "       [1.5374361 , 0.04873295, 0.9683772 , 1.10035575],\n",
       "       [1.33574366, 0.30633114, 0.1903351 , 1.1502269 ],\n",
       "       [1.13405121, 0.56392932, 0.587707  , 1.20009805],\n",
       "       [0.93235877, 0.82152751, 1.36574909, 1.24996921],\n",
       "       [0.77688919, 0.7340416 , 0.85490579, 0.82606441],\n",
       "       [0.89034119, 0.98191368, 0.58088583, 0.95697618],\n",
       "       [0.89874168, 0.53450413, 0.03474651, 0.25878004],\n",
       "       [1.00379319, 0.8669506 , 0.93332196, 1.24996921],\n",
       "       [0.97998171, 0.89125302, 0.87456136, 1.0795761 ],\n",
       "       [0.95617024, 0.91555544, 0.81580076, 0.90918299],\n",
       "       [0.93235877, 0.93985786, 0.75704016, 0.73878989],\n",
       "       [1.16346301, 1.10899962, 0.53679414, 0.97256092],\n",
       "       [1.42818435, 0.66865153, 0.5192736 , 0.6203459 ],\n",
       "       [1.40297279, 0.63948723, 0.42320942, 0.8852864 ],\n",
       "       [1.38196652, 0.27036626, 0.18555617, 1.58036559],\n",
       "       [1.31193386, 0.07206486, 0.35472881, 1.46088262],\n",
       "       [1.2419012 , 0.12623654, 0.89501379, 1.34139965],\n",
       "       [1.17186855, 0.32453794, 1.43529877, 1.22191668],\n",
       "       [1.48281275, 0.15540318, 0.91556064, 0.84164914],\n",
       "       [1.40297279, 0.79819327, 0.74921603, 1.203215  ],\n",
       "       [1.24330297, 1.24437142, 0.3344369 , 1.76114852],\n",
       "       [1.37356099, 1.50974768, 1.50583415, 2.44375993],\n",
       "       [1.40402537, 1.17001014, 1.42209109, 2.27622403],\n",
       "       [1.43448976, 0.8302726 , 1.33834803, 2.10868812],\n",
       "       [1.46495414, 0.49053506, 1.25460496, 1.94115222],\n",
       "       [1.49541852, 0.15079752, 1.1708619 , 1.77361631],\n",
       "       [1.36095521, 0.91944214, 0.83624375, 1.00373039],\n",
       "       [1.51222455, 0.27496492, 0.70428026, 0.91022198],\n",
       "       [1.30633186, 1.02151371, 0.22952039, 0.71697126],\n",
       "       [1.39597238, 0.7366969 , 0.49961331, 0.74917971],\n",
       "       [1.48561291, 0.4518801 , 0.76970622, 0.78138817],\n",
       "       [1.57525344, 0.1670633 , 1.03979914, 0.81359662],\n",
       "       [1.7349283 , 0.3695123 , 0.12280243, 0.62346285]])"
      ]
     },
     "execution_count": 20,
     "metadata": {},
     "output_type": "execute_result"
    }
   ],
   "source": [
    "from scipy.stats import zscore\n",
    "z=np.abs(zscore(df_new))\n",
    "z\n"
   ]
  },
  {
   "cell_type": "code",
   "execution_count": 21,
   "metadata": {},
   "outputs": [
    {
     "data": {
      "text/plain": [
       "(190, 4)"
      ]
     },
     "execution_count": 21,
     "metadata": {},
     "output_type": "execute_result"
    }
   ],
   "source": [
    "\n",
    "df=df_new[(z<3).all(axis=1)]\n",
    "df.shape"
   ]
  },
  {
   "cell_type": "code",
   "execution_count": 22,
   "metadata": {},
   "outputs": [
    {
     "data": {
      "text/html": [
       "<div>\n",
       "<style scoped>\n",
       "    .dataframe tbody tr th:only-of-type {\n",
       "        vertical-align: middle;\n",
       "    }\n",
       "\n",
       "    .dataframe tbody tr th {\n",
       "        vertical-align: top;\n",
       "    }\n",
       "\n",
       "    .dataframe thead th {\n",
       "        text-align: right;\n",
       "    }\n",
       "</style>\n",
       "<table border=\"1\" class=\"dataframe\">\n",
       "  <thead>\n",
       "    <tr style=\"text-align: right;\">\n",
       "      <th></th>\n",
       "      <th>temperature</th>\n",
       "      <th>humidity</th>\n",
       "      <th>windspeed</th>\n",
       "      <th>count</th>\n",
       "    </tr>\n",
       "  </thead>\n",
       "  <tbody>\n",
       "    <tr>\n",
       "      <th>0</th>\n",
       "      <td>2.716070</td>\n",
       "      <td>45.715346</td>\n",
       "      <td>21.414957</td>\n",
       "      <td>120.000000</td>\n",
       "    </tr>\n",
       "    <tr>\n",
       "      <th>1</th>\n",
       "      <td>2.896673</td>\n",
       "      <td>54.267219</td>\n",
       "      <td>15.136882</td>\n",
       "      <td>108.000000</td>\n",
       "    </tr>\n",
       "    <tr>\n",
       "      <th>2</th>\n",
       "      <td>4.235654</td>\n",
       "      <td>45.697702</td>\n",
       "      <td>17.034578</td>\n",
       "      <td>82.000000</td>\n",
       "    </tr>\n",
       "    <tr>\n",
       "      <th>3</th>\n",
       "      <td>3.112643</td>\n",
       "      <td>50.237349</td>\n",
       "      <td>10.091568</td>\n",
       "      <td>88.000000</td>\n",
       "    </tr>\n",
       "    <tr>\n",
       "      <th>4</th>\n",
       "      <td>2.723918</td>\n",
       "      <td>49.144928</td>\n",
       "      <td>15.738204</td>\n",
       "      <td>148.000000</td>\n",
       "    </tr>\n",
       "    <tr>\n",
       "      <th>5</th>\n",
       "      <td>1.967445</td>\n",
       "      <td>48.851252</td>\n",
       "      <td>17.035029</td>\n",
       "      <td>112.333333</td>\n",
       "    </tr>\n",
       "    <tr>\n",
       "      <th>6</th>\n",
       "      <td>1.210973</td>\n",
       "      <td>48.557576</td>\n",
       "      <td>18.331855</td>\n",
       "      <td>76.666667</td>\n",
       "    </tr>\n",
       "    <tr>\n",
       "      <th>7</th>\n",
       "      <td>0.454501</td>\n",
       "      <td>48.263900</td>\n",
       "      <td>19.628680</td>\n",
       "      <td>41.000000</td>\n",
       "    </tr>\n",
       "    <tr>\n",
       "      <th>8</th>\n",
       "      <td>1.361393</td>\n",
       "      <td>59.623460</td>\n",
       "      <td>12.414597</td>\n",
       "      <td>43.000000</td>\n",
       "    </tr>\n",
       "    <tr>\n",
       "      <th>9</th>\n",
       "      <td>1.541997</td>\n",
       "      <td>54.775880</td>\n",
       "      <td>25.432188</td>\n",
       "      <td>25.000000</td>\n",
       "    </tr>\n",
       "    <tr>\n",
       "      <th>10</th>\n",
       "      <td>1.158189</td>\n",
       "      <td>47.565957</td>\n",
       "      <td>25.173470</td>\n",
       "      <td>38.000000</td>\n",
       "    </tr>\n",
       "    <tr>\n",
       "      <th>11</th>\n",
       "      <td>0.953048</td>\n",
       "      <td>51.329770</td>\n",
       "      <td>12.729596</td>\n",
       "      <td>54.000000</td>\n",
       "    </tr>\n",
       "    <tr>\n",
       "      <th>12</th>\n",
       "      <td>1.645921</td>\n",
       "      <td>55.850225</td>\n",
       "      <td>13.090300</td>\n",
       "      <td>42.750000</td>\n",
       "    </tr>\n",
       "    <tr>\n",
       "      <th>13</th>\n",
       "      <td>2.338794</td>\n",
       "      <td>60.370679</td>\n",
       "      <td>13.451004</td>\n",
       "      <td>31.500000</td>\n",
       "    </tr>\n",
       "    <tr>\n",
       "      <th>14</th>\n",
       "      <td>3.031667</td>\n",
       "      <td>64.891133</td>\n",
       "      <td>13.811708</td>\n",
       "      <td>20.250000</td>\n",
       "    </tr>\n",
       "    <tr>\n",
       "      <th>15</th>\n",
       "      <td>3.724539</td>\n",
       "      <td>69.411587</td>\n",
       "      <td>14.172412</td>\n",
       "      <td>9.000000</td>\n",
       "    </tr>\n",
       "    <tr>\n",
       "      <th>16</th>\n",
       "      <td>7.475045</td>\n",
       "      <td>62.715350</td>\n",
       "      <td>18.562278</td>\n",
       "      <td>78.000000</td>\n",
       "    </tr>\n",
       "    <tr>\n",
       "      <th>17</th>\n",
       "      <td>5.959733</td>\n",
       "      <td>51.358079</td>\n",
       "      <td>17.676844</td>\n",
       "      <td>83.000000</td>\n",
       "    </tr>\n",
       "    <tr>\n",
       "      <th>18</th>\n",
       "      <td>1.779077</td>\n",
       "      <td>46.821447</td>\n",
       "      <td>28.899955</td>\n",
       "      <td>75.000000</td>\n",
       "    </tr>\n",
       "    <tr>\n",
       "      <th>19</th>\n",
       "      <td>0.452718</td>\n",
       "      <td>47.466458</td>\n",
       "      <td>24.265518</td>\n",
       "      <td>78.666667</td>\n",
       "    </tr>\n",
       "    <tr>\n",
       "      <th>20</th>\n",
       "      <td>-0.873641</td>\n",
       "      <td>48.111470</td>\n",
       "      <td>19.631082</td>\n",
       "      <td>82.333333</td>\n",
       "    </tr>\n",
       "    <tr>\n",
       "      <th>21</th>\n",
       "      <td>-2.200000</td>\n",
       "      <td>48.756481</td>\n",
       "      <td>14.996645</td>\n",
       "      <td>86.000000</td>\n",
       "    </tr>\n",
       "    <tr>\n",
       "      <th>22</th>\n",
       "      <td>4.062848</td>\n",
       "      <td>55.748088</td>\n",
       "      <td>12.961280</td>\n",
       "      <td>186.000000</td>\n",
       "    </tr>\n",
       "    <tr>\n",
       "      <th>23</th>\n",
       "      <td>3.765915</td>\n",
       "      <td>69.458098</td>\n",
       "      <td>24.663452</td>\n",
       "      <td>34.000000</td>\n",
       "    </tr>\n",
       "    <tr>\n",
       "      <th>24</th>\n",
       "      <td>2.648318</td>\n",
       "      <td>59.686889</td>\n",
       "      <td>11.822905</td>\n",
       "      <td>15.000000</td>\n",
       "    </tr>\n",
       "    <tr>\n",
       "      <th>25</th>\n",
       "      <td>3.069429</td>\n",
       "      <td>65.579933</td>\n",
       "      <td>12.497912</td>\n",
       "      <td>38.000000</td>\n",
       "    </tr>\n",
       "    <tr>\n",
       "      <th>26</th>\n",
       "      <td>2.694496</td>\n",
       "      <td>62.056845</td>\n",
       "      <td>14.017077</td>\n",
       "      <td>39.333333</td>\n",
       "    </tr>\n",
       "    <tr>\n",
       "      <th>27</th>\n",
       "      <td>2.319563</td>\n",
       "      <td>58.533757</td>\n",
       "      <td>15.536242</td>\n",
       "      <td>40.666667</td>\n",
       "    </tr>\n",
       "    <tr>\n",
       "      <th>28</th>\n",
       "      <td>1.944630</td>\n",
       "      <td>55.010668</td>\n",
       "      <td>17.055406</td>\n",
       "      <td>42.000000</td>\n",
       "    </tr>\n",
       "    <tr>\n",
       "      <th>29</th>\n",
       "      <td>2.507948</td>\n",
       "      <td>67.619156</td>\n",
       "      <td>7.498521</td>\n",
       "      <td>47.000000</td>\n",
       "    </tr>\n",
       "    <tr>\n",
       "      <th>...</th>\n",
       "      <td>...</td>\n",
       "      <td>...</td>\n",
       "      <td>...</td>\n",
       "      <td>...</td>\n",
       "    </tr>\n",
       "    <tr>\n",
       "      <th>161</th>\n",
       "      <td>24.503544</td>\n",
       "      <td>48.915277</td>\n",
       "      <td>25.483761</td>\n",
       "      <td>863.000000</td>\n",
       "    </tr>\n",
       "    <tr>\n",
       "      <th>162</th>\n",
       "      <td>22.972039</td>\n",
       "      <td>49.613220</td>\n",
       "      <td>22.911058</td>\n",
       "      <td>727.000000</td>\n",
       "    </tr>\n",
       "    <tr>\n",
       "      <th>163</th>\n",
       "      <td>24.089636</td>\n",
       "      <td>47.635751</td>\n",
       "      <td>15.680140</td>\n",
       "      <td>769.000000</td>\n",
       "    </tr>\n",
       "    <tr>\n",
       "      <th>164</th>\n",
       "      <td>24.172387</td>\n",
       "      <td>59.733400</td>\n",
       "      <td>18.430601</td>\n",
       "      <td>545.000000</td>\n",
       "    </tr>\n",
       "    <tr>\n",
       "      <th>165</th>\n",
       "      <td>25.207232</td>\n",
       "      <td>62.385586</td>\n",
       "      <td>13.905206</td>\n",
       "      <td>863.000000</td>\n",
       "    </tr>\n",
       "    <tr>\n",
       "      <th>166</th>\n",
       "      <td>24.972669</td>\n",
       "      <td>62.579465</td>\n",
       "      <td>14.201135</td>\n",
       "      <td>808.333333</td>\n",
       "    </tr>\n",
       "    <tr>\n",
       "      <th>167</th>\n",
       "      <td>24.738107</td>\n",
       "      <td>62.773344</td>\n",
       "      <td>14.497065</td>\n",
       "      <td>753.666667</td>\n",
       "    </tr>\n",
       "    <tr>\n",
       "      <th>168</th>\n",
       "      <td>24.503544</td>\n",
       "      <td>62.967224</td>\n",
       "      <td>14.792994</td>\n",
       "      <td>699.000000</td>\n",
       "    </tr>\n",
       "    <tr>\n",
       "      <th>169</th>\n",
       "      <td>26.780113</td>\n",
       "      <td>64.316600</td>\n",
       "      <td>15.902195</td>\n",
       "      <td>774.000000</td>\n",
       "    </tr>\n",
       "    <tr>\n",
       "      <th>170</th>\n",
       "      <td>29.387839</td>\n",
       "      <td>60.803599</td>\n",
       "      <td>15.990431</td>\n",
       "      <td>661.000000</td>\n",
       "    </tr>\n",
       "    <tr>\n",
       "      <th>171</th>\n",
       "      <td>29.139484</td>\n",
       "      <td>60.570933</td>\n",
       "      <td>20.736953</td>\n",
       "      <td>746.000000</td>\n",
       "    </tr>\n",
       "    <tr>\n",
       "      <th>172</th>\n",
       "      <td>28.932555</td>\n",
       "      <td>53.312321</td>\n",
       "      <td>19.540087</td>\n",
       "      <td>969.000000</td>\n",
       "    </tr>\n",
       "    <tr>\n",
       "      <th>173</th>\n",
       "      <td>28.242675</td>\n",
       "      <td>54.894326</td>\n",
       "      <td>16.819110</td>\n",
       "      <td>930.666667</td>\n",
       "    </tr>\n",
       "    <tr>\n",
       "      <th>174</th>\n",
       "      <td>27.552795</td>\n",
       "      <td>56.476331</td>\n",
       "      <td>14.098133</td>\n",
       "      <td>892.333333</td>\n",
       "    </tr>\n",
       "    <tr>\n",
       "      <th>175</th>\n",
       "      <td>26.862915</td>\n",
       "      <td>58.058336</td>\n",
       "      <td>11.377156</td>\n",
       "      <td>854.000000</td>\n",
       "    </tr>\n",
       "    <tr>\n",
       "      <th>176</th>\n",
       "      <td>29.925974</td>\n",
       "      <td>56.709016</td>\n",
       "      <td>13.994655</td>\n",
       "      <td>732.000000</td>\n",
       "    </tr>\n",
       "    <tr>\n",
       "      <th>177</th>\n",
       "      <td>29.139484</td>\n",
       "      <td>49.101432</td>\n",
       "      <td>22.378784</td>\n",
       "      <td>848.000000</td>\n",
       "    </tr>\n",
       "    <tr>\n",
       "      <th>178</th>\n",
       "      <td>27.566603</td>\n",
       "      <td>45.541921</td>\n",
       "      <td>16.921304</td>\n",
       "      <td>1027.000000</td>\n",
       "    </tr>\n",
       "    <tr>\n",
       "      <th>179</th>\n",
       "      <td>28.849753</td>\n",
       "      <td>43.424807</td>\n",
       "      <td>11.021927</td>\n",
       "      <td>1246.000000</td>\n",
       "    </tr>\n",
       "    <tr>\n",
       "      <th>180</th>\n",
       "      <td>29.149853</td>\n",
       "      <td>46.135159</td>\n",
       "      <td>11.443672</td>\n",
       "      <td>1192.250000</td>\n",
       "    </tr>\n",
       "    <tr>\n",
       "      <th>181</th>\n",
       "      <td>29.449952</td>\n",
       "      <td>48.845511</td>\n",
       "      <td>11.865418</td>\n",
       "      <td>1138.500000</td>\n",
       "    </tr>\n",
       "    <tr>\n",
       "      <th>182</th>\n",
       "      <td>29.750052</td>\n",
       "      <td>51.555862</td>\n",
       "      <td>12.287164</td>\n",
       "      <td>1084.750000</td>\n",
       "    </tr>\n",
       "    <tr>\n",
       "      <th>183</th>\n",
       "      <td>30.050152</td>\n",
       "      <td>54.266214</td>\n",
       "      <td>12.708910</td>\n",
       "      <td>1031.000000</td>\n",
       "    </tr>\n",
       "    <tr>\n",
       "      <th>184</th>\n",
       "      <td>28.725576</td>\n",
       "      <td>62.804352</td>\n",
       "      <td>14.394110</td>\n",
       "      <td>784.000000</td>\n",
       "    </tr>\n",
       "    <tr>\n",
       "      <th>185</th>\n",
       "      <td>30.215705</td>\n",
       "      <td>57.662853</td>\n",
       "      <td>15.058703</td>\n",
       "      <td>754.000000</td>\n",
       "    </tr>\n",
       "    <tr>\n",
       "      <th>186</th>\n",
       "      <td>28.187490</td>\n",
       "      <td>63.618656</td>\n",
       "      <td>19.761499</td>\n",
       "      <td>692.000000</td>\n",
       "    </tr>\n",
       "    <tr>\n",
       "      <th>187</th>\n",
       "      <td>29.070524</td>\n",
       "      <td>61.346450</td>\n",
       "      <td>21.121738</td>\n",
       "      <td>702.333333</td>\n",
       "    </tr>\n",
       "    <tr>\n",
       "      <th>188</th>\n",
       "      <td>29.953558</td>\n",
       "      <td>59.074244</td>\n",
       "      <td>22.481976</td>\n",
       "      <td>712.666667</td>\n",
       "    </tr>\n",
       "    <tr>\n",
       "      <th>189</th>\n",
       "      <td>30.836592</td>\n",
       "      <td>56.802038</td>\n",
       "      <td>23.842215</td>\n",
       "      <td>723.000000</td>\n",
       "    </tr>\n",
       "    <tr>\n",
       "      <th>190</th>\n",
       "      <td>32.409522</td>\n",
       "      <td>52.521355</td>\n",
       "      <td>17.987135</td>\n",
       "      <td>662.000000</td>\n",
       "    </tr>\n",
       "  </tbody>\n",
       "</table>\n",
       "<p>190 rows × 4 columns</p>\n",
       "</div>"
      ],
      "text/plain": [
       "     temperature   humidity  windspeed        count\n",
       "0       2.716070  45.715346  21.414957   120.000000\n",
       "1       2.896673  54.267219  15.136882   108.000000\n",
       "2       4.235654  45.697702  17.034578    82.000000\n",
       "3       3.112643  50.237349  10.091568    88.000000\n",
       "4       2.723918  49.144928  15.738204   148.000000\n",
       "5       1.967445  48.851252  17.035029   112.333333\n",
       "6       1.210973  48.557576  18.331855    76.666667\n",
       "7       0.454501  48.263900  19.628680    41.000000\n",
       "8       1.361393  59.623460  12.414597    43.000000\n",
       "9       1.541997  54.775880  25.432188    25.000000\n",
       "10      1.158189  47.565957  25.173470    38.000000\n",
       "11      0.953048  51.329770  12.729596    54.000000\n",
       "12      1.645921  55.850225  13.090300    42.750000\n",
       "13      2.338794  60.370679  13.451004    31.500000\n",
       "14      3.031667  64.891133  13.811708    20.250000\n",
       "15      3.724539  69.411587  14.172412     9.000000\n",
       "16      7.475045  62.715350  18.562278    78.000000\n",
       "17      5.959733  51.358079  17.676844    83.000000\n",
       "18      1.779077  46.821447  28.899955    75.000000\n",
       "19      0.452718  47.466458  24.265518    78.666667\n",
       "20     -0.873641  48.111470  19.631082    82.333333\n",
       "21     -2.200000  48.756481  14.996645    86.000000\n",
       "22      4.062848  55.748088  12.961280   186.000000\n",
       "23      3.765915  69.458098  24.663452    34.000000\n",
       "24      2.648318  59.686889  11.822905    15.000000\n",
       "25      3.069429  65.579933  12.497912    38.000000\n",
       "26      2.694496  62.056845  14.017077    39.333333\n",
       "27      2.319563  58.533757  15.536242    40.666667\n",
       "28      1.944630  55.010668  17.055406    42.000000\n",
       "29      2.507948  67.619156   7.498521    47.000000\n",
       "..           ...        ...        ...          ...\n",
       "161    24.503544  48.915277  25.483761   863.000000\n",
       "162    22.972039  49.613220  22.911058   727.000000\n",
       "163    24.089636  47.635751  15.680140   769.000000\n",
       "164    24.172387  59.733400  18.430601   545.000000\n",
       "165    25.207232  62.385586  13.905206   863.000000\n",
       "166    24.972669  62.579465  14.201135   808.333333\n",
       "167    24.738107  62.773344  14.497065   753.666667\n",
       "168    24.503544  62.967224  14.792994   699.000000\n",
       "169    26.780113  64.316600  15.902195   774.000000\n",
       "170    29.387839  60.803599  15.990431   661.000000\n",
       "171    29.139484  60.570933  20.736953   746.000000\n",
       "172    28.932555  53.312321  19.540087   969.000000\n",
       "173    28.242675  54.894326  16.819110   930.666667\n",
       "174    27.552795  56.476331  14.098133   892.333333\n",
       "175    26.862915  58.058336  11.377156   854.000000\n",
       "176    29.925974  56.709016  13.994655   732.000000\n",
       "177    29.139484  49.101432  22.378784   848.000000\n",
       "178    27.566603  45.541921  16.921304  1027.000000\n",
       "179    28.849753  43.424807  11.021927  1246.000000\n",
       "180    29.149853  46.135159  11.443672  1192.250000\n",
       "181    29.449952  48.845511  11.865418  1138.500000\n",
       "182    29.750052  51.555862  12.287164  1084.750000\n",
       "183    30.050152  54.266214  12.708910  1031.000000\n",
       "184    28.725576  62.804352  14.394110   784.000000\n",
       "185    30.215705  57.662853  15.058703   754.000000\n",
       "186    28.187490  63.618656  19.761499   692.000000\n",
       "187    29.070524  61.346450  21.121738   702.333333\n",
       "188    29.953558  59.074244  22.481976   712.666667\n",
       "189    30.836592  56.802038  23.842215   723.000000\n",
       "190    32.409522  52.521355  17.987135   662.000000\n",
       "\n",
       "[190 rows x 4 columns]"
      ]
     },
     "execution_count": 22,
     "metadata": {},
     "output_type": "execute_result"
    }
   ],
   "source": [
    "df"
   ]
  },
  {
   "cell_type": "code",
   "execution_count": 23,
   "metadata": {},
   "outputs": [],
   "source": [
    "x=df.iloc[:,0:3].values"
   ]
  },
  {
   "cell_type": "code",
   "execution_count": 24,
   "metadata": {},
   "outputs": [
    {
     "data": {
      "text/plain": [
       "(190, 3)"
      ]
     },
     "execution_count": 24,
     "metadata": {},
     "output_type": "execute_result"
    }
   ],
   "source": [
    "x.shape"
   ]
  },
  {
   "cell_type": "code",
   "execution_count": 25,
   "metadata": {},
   "outputs": [
    {
     "data": {
      "text/plain": [
       "(190, 3)"
      ]
     },
     "execution_count": 25,
     "metadata": {},
     "output_type": "execute_result"
    }
   ],
   "source": [
    "x.shape"
   ]
  },
  {
   "cell_type": "code",
   "execution_count": 26,
   "metadata": {},
   "outputs": [],
   "source": [
    "y=df.iloc[:,3].values"
   ]
  },
  {
   "cell_type": "code",
   "execution_count": 27,
   "metadata": {},
   "outputs": [
    {
     "data": {
      "text/plain": [
       "array([ 120.        ,  108.        ,   82.        ,   88.        ,\n",
       "        148.        ,  112.33333333,   76.66666667,   41.        ,\n",
       "         43.        ,   25.        ,   38.        ,   54.        ,\n",
       "         42.75      ,   31.5       ,   20.25      ,    9.        ,\n",
       "         78.        ,   83.        ,   75.        ,   78.66666667,\n",
       "         82.33333333,   86.        ,  186.        ,   34.        ,\n",
       "         15.        ,   38.        ,   39.33333333,   40.66666667,\n",
       "         42.        ,   47.        ,   72.        ,   61.        ,\n",
       "         88.        ,   98.66666667,  109.33333333,  120.        ,\n",
       "         64.        ,   53.        ,   47.        ,  149.        ,\n",
       "        168.66666667,  188.33333333,  208.        ,  140.        ,\n",
       "        218.        ,  259.        ,  579.        ,  452.75      ,\n",
       "        326.5       ,  200.25      ,   74.        ,  139.        ,\n",
       "        100.        ,  120.        ,  107.        ,   94.        ,\n",
       "         81.        ,  137.        ,  231.        ,  123.        ,\n",
       "        214.        ,  224.        ,  234.        ,  244.        ,\n",
       "        316.        ,  191.        ,  247.        ,  284.33333333,\n",
       "        321.66666667,  359.        ,  289.        ,  321.        ,\n",
       "        424.        ,  884.        ,  723.        ,  562.        ,\n",
       "        401.        ,  460.        ,  203.        ,  166.        ,\n",
       "        300.        ,  274.        ,  248.        ,  222.        ,\n",
       "        317.        ,  168.        ,  179.        ,  307.        ,\n",
       "        449.33333333,  591.66666667,  734.        ,  167.        ,\n",
       "        413.        ,  571.        ,  172.        ,  399.66666667,\n",
       "        627.33333333,  855.        ,  257.        ,  209.        ,\n",
       "        529.        ,  564.        ,  599.        ,  634.        ,\n",
       "        669.        ,  409.        ,  613.        ,  745.        ,\n",
       "        177.        ,  375.66666667,  574.33333333,  773.        ,\n",
       "        678.        ,  547.        ,  569.        ,  878.        ,\n",
       "        867.66666667,  857.33333333,  847.        ,  603.        ,\n",
       "        255.        ,  614.        ,  894.        ,  817.33333333,\n",
       "        740.66666667,  664.        ,  694.        ,  550.        ,\n",
       "        695.        ,  692.        ,  719.        ,  746.        ,\n",
       "        773.        ,  678.        ,  536.        ,  735.        ,\n",
       "        909.        ,  884.66666667,  860.33333333,  836.        ,\n",
       "        659.        ,  740.        ,  758.        ,  871.        ,\n",
       "        821.5       ,  772.        ,  722.5       ,  673.        ,\n",
       "        513.        ,  736.        ,  898.        ,  823.        ,\n",
       "        748.        ,  673.        ,  763.        ,  676.        ,\n",
       "        563.        ,  815.        ,  831.        ,  847.        ,\n",
       "        863.        ,  727.        ,  769.        ,  545.        ,\n",
       "        863.        ,  808.33333333,  753.66666667,  699.        ,\n",
       "        774.        ,  661.        ,  746.        ,  969.        ,\n",
       "        930.66666667,  892.33333333,  854.        ,  732.        ,\n",
       "        848.        , 1027.        , 1246.        , 1192.25      ,\n",
       "       1138.5       , 1084.75      , 1031.        ,  784.        ,\n",
       "        754.        ,  692.        ,  702.33333333,  712.66666667,\n",
       "        723.        ,  662.        ])"
      ]
     },
     "execution_count": 27,
     "metadata": {},
     "output_type": "execute_result"
    }
   ],
   "source": [
    "y"
   ]
  },
  {
   "cell_type": "code",
   "execution_count": 28,
   "metadata": {},
   "outputs": [
    {
     "data": {
      "text/plain": [
       "(190,)"
      ]
     },
     "execution_count": 28,
     "metadata": {},
     "output_type": "execute_result"
    }
   ],
   "source": [
    "y.shape"
   ]
  },
  {
   "cell_type": "code",
   "execution_count": 29,
   "metadata": {},
   "outputs": [
    {
     "data": {
      "text/plain": [
       "array([[ 120.        ],\n",
       "       [ 108.        ],\n",
       "       [  82.        ],\n",
       "       [  88.        ],\n",
       "       [ 148.        ],\n",
       "       [ 112.33333333],\n",
       "       [  76.66666667],\n",
       "       [  41.        ],\n",
       "       [  43.        ],\n",
       "       [  25.        ],\n",
       "       [  38.        ],\n",
       "       [  54.        ],\n",
       "       [  42.75      ],\n",
       "       [  31.5       ],\n",
       "       [  20.25      ],\n",
       "       [   9.        ],\n",
       "       [  78.        ],\n",
       "       [  83.        ],\n",
       "       [  75.        ],\n",
       "       [  78.66666667],\n",
       "       [  82.33333333],\n",
       "       [  86.        ],\n",
       "       [ 186.        ],\n",
       "       [  34.        ],\n",
       "       [  15.        ],\n",
       "       [  38.        ],\n",
       "       [  39.33333333],\n",
       "       [  40.66666667],\n",
       "       [  42.        ],\n",
       "       [  47.        ],\n",
       "       [  72.        ],\n",
       "       [  61.        ],\n",
       "       [  88.        ],\n",
       "       [  98.66666667],\n",
       "       [ 109.33333333],\n",
       "       [ 120.        ],\n",
       "       [  64.        ],\n",
       "       [  53.        ],\n",
       "       [  47.        ],\n",
       "       [ 149.        ],\n",
       "       [ 168.66666667],\n",
       "       [ 188.33333333],\n",
       "       [ 208.        ],\n",
       "       [ 140.        ],\n",
       "       [ 218.        ],\n",
       "       [ 259.        ],\n",
       "       [ 579.        ],\n",
       "       [ 452.75      ],\n",
       "       [ 326.5       ],\n",
       "       [ 200.25      ],\n",
       "       [  74.        ],\n",
       "       [ 139.        ],\n",
       "       [ 100.        ],\n",
       "       [ 120.        ],\n",
       "       [ 107.        ],\n",
       "       [  94.        ],\n",
       "       [  81.        ],\n",
       "       [ 137.        ],\n",
       "       [ 231.        ],\n",
       "       [ 123.        ],\n",
       "       [ 214.        ],\n",
       "       [ 224.        ],\n",
       "       [ 234.        ],\n",
       "       [ 244.        ],\n",
       "       [ 316.        ],\n",
       "       [ 191.        ],\n",
       "       [ 247.        ],\n",
       "       [ 284.33333333],\n",
       "       [ 321.66666667],\n",
       "       [ 359.        ],\n",
       "       [ 289.        ],\n",
       "       [ 321.        ],\n",
       "       [ 424.        ],\n",
       "       [ 884.        ],\n",
       "       [ 723.        ],\n",
       "       [ 562.        ],\n",
       "       [ 401.        ],\n",
       "       [ 460.        ],\n",
       "       [ 203.        ],\n",
       "       [ 166.        ],\n",
       "       [ 300.        ],\n",
       "       [ 274.        ],\n",
       "       [ 248.        ],\n",
       "       [ 222.        ],\n",
       "       [ 317.        ],\n",
       "       [ 168.        ],\n",
       "       [ 179.        ],\n",
       "       [ 307.        ],\n",
       "       [ 449.33333333],\n",
       "       [ 591.66666667],\n",
       "       [ 734.        ],\n",
       "       [ 167.        ],\n",
       "       [ 413.        ],\n",
       "       [ 571.        ],\n",
       "       [ 172.        ],\n",
       "       [ 399.66666667],\n",
       "       [ 627.33333333],\n",
       "       [ 855.        ],\n",
       "       [ 257.        ],\n",
       "       [ 209.        ],\n",
       "       [ 529.        ],\n",
       "       [ 564.        ],\n",
       "       [ 599.        ],\n",
       "       [ 634.        ],\n",
       "       [ 669.        ],\n",
       "       [ 409.        ],\n",
       "       [ 613.        ],\n",
       "       [ 745.        ],\n",
       "       [ 177.        ],\n",
       "       [ 375.66666667],\n",
       "       [ 574.33333333],\n",
       "       [ 773.        ],\n",
       "       [ 678.        ],\n",
       "       [ 547.        ],\n",
       "       [ 569.        ],\n",
       "       [ 878.        ],\n",
       "       [ 867.66666667],\n",
       "       [ 857.33333333],\n",
       "       [ 847.        ],\n",
       "       [ 603.        ],\n",
       "       [ 255.        ],\n",
       "       [ 614.        ],\n",
       "       [ 894.        ],\n",
       "       [ 817.33333333],\n",
       "       [ 740.66666667],\n",
       "       [ 664.        ],\n",
       "       [ 694.        ],\n",
       "       [ 550.        ],\n",
       "       [ 695.        ],\n",
       "       [ 692.        ],\n",
       "       [ 719.        ],\n",
       "       [ 746.        ],\n",
       "       [ 773.        ],\n",
       "       [ 678.        ],\n",
       "       [ 536.        ],\n",
       "       [ 735.        ],\n",
       "       [ 909.        ],\n",
       "       [ 884.66666667],\n",
       "       [ 860.33333333],\n",
       "       [ 836.        ],\n",
       "       [ 659.        ],\n",
       "       [ 740.        ],\n",
       "       [ 758.        ],\n",
       "       [ 871.        ],\n",
       "       [ 821.5       ],\n",
       "       [ 772.        ],\n",
       "       [ 722.5       ],\n",
       "       [ 673.        ],\n",
       "       [ 513.        ],\n",
       "       [ 736.        ],\n",
       "       [ 898.        ],\n",
       "       [ 823.        ],\n",
       "       [ 748.        ],\n",
       "       [ 673.        ],\n",
       "       [ 763.        ],\n",
       "       [ 676.        ],\n",
       "       [ 563.        ],\n",
       "       [ 815.        ],\n",
       "       [ 831.        ],\n",
       "       [ 847.        ],\n",
       "       [ 863.        ],\n",
       "       [ 727.        ],\n",
       "       [ 769.        ],\n",
       "       [ 545.        ],\n",
       "       [ 863.        ],\n",
       "       [ 808.33333333],\n",
       "       [ 753.66666667],\n",
       "       [ 699.        ],\n",
       "       [ 774.        ],\n",
       "       [ 661.        ],\n",
       "       [ 746.        ],\n",
       "       [ 969.        ],\n",
       "       [ 930.66666667],\n",
       "       [ 892.33333333],\n",
       "       [ 854.        ],\n",
       "       [ 732.        ],\n",
       "       [ 848.        ],\n",
       "       [1027.        ],\n",
       "       [1246.        ],\n",
       "       [1192.25      ],\n",
       "       [1138.5       ],\n",
       "       [1084.75      ],\n",
       "       [1031.        ],\n",
       "       [ 784.        ],\n",
       "       [ 754.        ],\n",
       "       [ 692.        ],\n",
       "       [ 702.33333333],\n",
       "       [ 712.66666667],\n",
       "       [ 723.        ],\n",
       "       [ 662.        ]])"
      ]
     },
     "execution_count": 29,
     "metadata": {},
     "output_type": "execute_result"
    }
   ],
   "source": [
    "y=y.reshape(-1,1)\n",
    "y"
   ]
  },
  {
   "cell_type": "code",
   "execution_count": 30,
   "metadata": {},
   "outputs": [],
   "source": [
    "from sklearn.model_selection import train_test_split"
   ]
  },
  {
   "cell_type": "code",
   "execution_count": 31,
   "metadata": {},
   "outputs": [],
   "source": [
    "x_train,x_test,y_train,y_test=train_test_split(x,y,test_size=.3,random_state=45)"
   ]
  },
  {
   "cell_type": "code",
   "execution_count": 32,
   "metadata": {},
   "outputs": [
    {
     "data": {
      "text/plain": [
       "(133, 3)"
      ]
     },
     "execution_count": 32,
     "metadata": {},
     "output_type": "execute_result"
    }
   ],
   "source": [
    "x_train.shape"
   ]
  },
  {
   "cell_type": "code",
   "execution_count": 33,
   "metadata": {},
   "outputs": [
    {
     "data": {
      "text/plain": [
       "(57, 3)"
      ]
     },
     "execution_count": 33,
     "metadata": {},
     "output_type": "execute_result"
    }
   ],
   "source": [
    "x_test.shape"
   ]
  },
  {
   "cell_type": "code",
   "execution_count": 34,
   "metadata": {},
   "outputs": [
    {
     "data": {
      "text/plain": [
       "(133, 1)"
      ]
     },
     "execution_count": 34,
     "metadata": {},
     "output_type": "execute_result"
    }
   ],
   "source": [
    "y_train.shape"
   ]
  },
  {
   "cell_type": "code",
   "execution_count": 35,
   "metadata": {},
   "outputs": [
    {
     "data": {
      "text/plain": [
       "(57, 1)"
      ]
     },
     "execution_count": 35,
     "metadata": {},
     "output_type": "execute_result"
    }
   ],
   "source": [
    "y_test.shape"
   ]
  },
  {
   "cell_type": "code",
   "execution_count": 36,
   "metadata": {},
   "outputs": [],
   "source": [
    "lm=LinearRegression()"
   ]
  },
  {
   "cell_type": "code",
   "execution_count": 37,
   "metadata": {},
   "outputs": [
    {
     "data": {
      "text/plain": [
       "LinearRegression(copy_X=True, fit_intercept=True, n_jobs=None, normalize=False)"
      ]
     },
     "execution_count": 37,
     "metadata": {},
     "output_type": "execute_result"
    }
   ],
   "source": [
    "lm.fit(x_train,y_train)\n"
   ]
  },
  {
   "cell_type": "code",
   "execution_count": 38,
   "metadata": {},
   "outputs": [
    {
     "data": {
      "text/plain": [
       "0.8084253301779771"
      ]
     },
     "execution_count": 38,
     "metadata": {},
     "output_type": "execute_result"
    }
   ],
   "source": [
    "lm.score(x_train,y_train)"
   ]
  },
  {
   "cell_type": "code",
   "execution_count": 39,
   "metadata": {},
   "outputs": [],
   "source": [
    "pred=lm.predict(x_test)"
   ]
  },
  {
   "cell_type": "code",
   "execution_count": 40,
   "metadata": {},
   "outputs": [
    {
     "data": {
      "text/plain": [
       "array([[28.18984028, -4.80814783, -6.27072352]])"
      ]
     },
     "execution_count": 40,
     "metadata": {},
     "output_type": "execute_result"
    }
   ],
   "source": [
    "lm.coef_"
   ]
  },
  {
   "cell_type": "code",
   "execution_count": 41,
   "metadata": {},
   "outputs": [
    {
     "data": {
      "text/plain": [
       "array([411.63581721])"
      ]
     },
     "execution_count": 41,
     "metadata": {},
     "output_type": "execute_result"
    }
   ],
   "source": [
    "lm.intercept_\n"
   ]
  },
  {
   "cell_type": "code",
   "execution_count": 42,
   "metadata": {},
   "outputs": [
    {
     "name": "stdout",
     "output_type": "stream",
     "text": [
      "error:\n",
      "16533.17796331168\n"
     ]
    }
   ],
   "source": [
    "from sklearn.metrics import mean_squared_error\n",
    "print(\"error:\")\n",
    "print(mean_squared_error(y_test,pred))"
   ]
  },
  {
   "cell_type": "code",
   "execution_count": 43,
   "metadata": {},
   "outputs": [
    {
     "name": "stdout",
     "output_type": "stream",
     "text": [
      "0.8579538191667643\n"
     ]
    }
   ],
   "source": [
    "from sklearn.metrics import r2_score\n",
    "print(r2_score(y_test,pred))"
   ]
  },
  {
   "cell_type": "code",
   "execution_count": 44,
   "metadata": {},
   "outputs": [],
   "source": [
    "t=np.array([[2.71,46.87,17]])\n"
   ]
  },
  {
   "cell_type": "code",
   "execution_count": 45,
   "metadata": {},
   "outputs": [
    {
     "data": {
      "text/plain": [
       "array([[ 2.71, 46.87, 17.  ]])"
      ]
     },
     "execution_count": 45,
     "metadata": {},
     "output_type": "execute_result"
    }
   ],
   "source": [
    "t"
   ]
  },
  {
   "cell_type": "code",
   "execution_count": 46,
   "metadata": {},
   "outputs": [
    {
     "data": {
      "text/plain": [
       "array([[156.07009564]])"
      ]
     },
     "execution_count": 46,
     "metadata": {},
     "output_type": "execute_result"
    }
   ],
   "source": [
    "lm.predict(t)"
   ]
  },
  {
   "cell_type": "code",
   "execution_count": 48,
   "metadata": {},
   "outputs": [],
   "source": [
    "def linreg():\n",
    "    lm.fit(x_train,y_train)\n",
    "    pred=lm.predict(x_test)\n",
    "    print(lm.score(x_train,y_train))\n",
    "    print(r2_score(y_test,pred))\n",
    "    print(mean_squared_error(y_test,pred))"
   ]
  },
  {
   "cell_type": "code",
   "execution_count": 49,
   "metadata": {},
   "outputs": [
    {
     "name": "stdout",
     "output_type": "stream",
     "text": [
      "0.8084253301779771\n",
      "0.8579538191667643\n",
      "16533.17796331168\n"
     ]
    }
   ],
   "source": [
    "linreg()"
   ]
  },
  {
   "cell_type": "code",
   "execution_count": 50,
   "metadata": {},
   "outputs": [
    {
     "data": {
      "text/plain": [
       "['lrsave']"
      ]
     },
     "execution_count": 50,
     "metadata": {},
     "output_type": "execute_result"
    }
   ],
   "source": [
    "from sklearn.externals import joblib\n",
    "joblib.dump(linreg,\"lrsave\")"
   ]
  },
  {
   "cell_type": "code",
   "execution_count": 51,
   "metadata": {},
   "outputs": [],
   "source": [
    "import pickle\n",
    "s=pickle.dumps(linreg)\n",
    "clf2=pickle.loads(s)"
   ]
  },
  {
   "cell_type": "code",
   "execution_count": null,
   "metadata": {},
   "outputs": [],
   "source": []
  }
 ],
 "metadata": {
  "kernelspec": {
   "display_name": "Python 3",
   "language": "python",
   "name": "python3"
  },
  "language_info": {
   "codemirror_mode": {
    "name": "ipython",
    "version": 3
   },
   "file_extension": ".py",
   "mimetype": "text/x-python",
   "name": "python",
   "nbconvert_exporter": "python",
   "pygments_lexer": "ipython3",
   "version": "3.7.3"
  }
 },
 "nbformat": 4,
 "nbformat_minor": 2
}
